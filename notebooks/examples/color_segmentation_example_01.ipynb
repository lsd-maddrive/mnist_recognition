{
 "cells": [
  {
   "cell_type": "code",
   "execution_count": null,
   "metadata": {},
   "outputs": [],
   "source": [
    "%load_ext autoreload\n",
    "%autoreload 2"
   ]
  },
  {
   "cell_type": "code",
   "execution_count": null,
   "metadata": {},
   "outputs": [],
   "source": [
    "import os\n",
    "import cv2 \n",
    "import matplotlib.pyplot as plt \n",
    "import numpy as np\n",
    "import skimage.io as io\n",
    "import sys "
   ]
  },
  {
   "cell_type": "code",
   "execution_count": null,
   "metadata": {},
   "outputs": [],
   "source": [
    "PROJECT_ROOT=os.path.join(os.path.dirname(os.path.abspath(os.pardir)))\n",
    "sys.path.append(PROJECT_ROOT)\n",
    "from object_detection.segmentation.color_segmentation import color_segmentation\n",
    "from object_detection.segmentation.utils import choose_threshold"
   ]
  },
  {
   "cell_type": "code",
   "execution_count": null,
   "metadata": {},
   "outputs": [],
   "source": [
    "#Загружаем каринку \n",
    "fpath=os.path.join((os.path.dirname(os.path.abspath(os.pardir))), 'test','test_data',\"img1.jpg\")\n",
    "or_img=io.imread(fpath)\n",
    "\n",
    "plt.figure(figsize=[4, 4])\n",
    "plt.imshow(or_img)\n",
    "\n",
    "\n",
    "plt.show()"
   ]
  },
  {
   "cell_type": "code",
   "execution_count": null,
   "metadata": {},
   "outputs": [],
   "source": [
    "# Получим маску для желтого цвета на изображении\n",
    "# Примерные параметры low (0,140,80) high(90,230,255)\n",
    "yellow_mask=choose_threshold(or_img) "
   ]
  },
  {
   "cell_type": "code",
   "execution_count": null,
   "metadata": {},
   "outputs": [],
   "source": [
    "# Получим маску для черного цвета на изображении\n",
    "# Примерные параметры low (0,0,110) high(255,150,255)\n",
    "black_mask=choose_threshold(or_img) \n",
    "#Список всех полученных масок \n",
    "masks=[yellow_mask,black_mask]"
   ]
  },
  {
   "cell_type": "code",
   "execution_count": null,
   "metadata": {},
   "outputs": [],
   "source": [
    "result=color_segmentation(or_img,masks)\n",
    "\n",
    "plt.figure(figsize=[4, 4])\n",
    "plt.imshow(result)\n",
    "\n",
    "plt.show()\n"
   ]
  }
 ],
 "metadata": {
  "interpreter": {
   "hash": "8c46554910a80b06a06093a7e24ed5cd3ebcff8f451b709403ea0840222e27f8"
  },
  "kernelspec": {
   "display_name": "Python 3.8.10 ('.venv': poetry)",
   "language": "python",
   "name": "python3"
  },
  "language_info": {
   "codemirror_mode": {
    "name": "ipython",
    "version": 3
   },
   "file_extension": ".py",
   "mimetype": "text/x-python",
   "name": "python",
   "nbconvert_exporter": "python",
   "pygments_lexer": "ipython3",
   "version": "3.8.10"
  }
 },
 "nbformat": 4,
 "nbformat_minor": 2
}
