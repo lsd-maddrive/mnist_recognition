{
 "cells": [
  {
   "cell_type": "markdown",
   "metadata": {},
   "source": [
    "# Adversarial Attacks"
   ]
  },
  {
   "cell_type": "code",
   "execution_count": null,
   "metadata": {},
   "outputs": [],
   "source": [
    "%load_ext autoreload\n",
    "%autoreload 2\n",
    "\n",
    "import os \n",
    "\n",
    "PROJECT_DPATH = os.path.abspath(os.path.join(os.curdir, os.pardir))\n",
    "DATA_DPATH = os.path.join(PROJECT_DPATH, \"data\")\n",
    "\n",
    "import torch\n",
    "import torchvision\n",
    "from torchvision.transforms import transforms \n",
    "import torch.nn.functional as F\n",
    "from tqdm import tqdm\n",
    "import numpy as np\n",
    "from PIL import Image\n",
    "from datetime import date\n",
    "from ipywidgets import interact, IntSlider\n",
    "import matplotlib.pyplot as plt\n",
    "\n",
    "from mnist_recognition.models import MlpModel\n",
    "from mnist_recognition.inference import Inference\n",
    "from mnist_recognition.evaluation import Evaluator\n",
    "from mnist_recognition.transforms import Invertor\n",
    "from mnist_recognition.fgsm_attack import fgsm_attack"
   ]
  },
  {
   "cell_type": "markdown",
   "metadata": {},
   "source": [
    "## Загрузка тестовой выборки"
   ]
  },
  {
   "cell_type": "code",
   "execution_count": null,
   "metadata": {},
   "outputs": [],
   "source": [
    "# transform = transforms.Compose([Invertor(),transforms.Compose([transforms.ToTensor()])])\n",
    "transform = transforms.Compose(\n",
    "    [\n",
    "        Invertor(),\n",
    "        transforms.ToTensor()\n",
    "    ]\n",
    ")\n",
    "# загружаем тестовую выборку\n",
    "test_data = torchvision.datasets.MNIST(\n",
    "    DATA_DPATH, train=False, transform=transform, download=True\n",
    ")\n",
    "\n",
    "test_dataloader=torch.utils.data.DataLoader(\n",
    "    dataset=test_data, \n",
    "    batch_size=1,\n",
    "    shuffle=False\n",
    ")"
   ]
  },
  {
   "cell_type": "markdown",
   "metadata": {},
   "source": [
    "## Загрузка обученной модели"
   ]
  },
  {
   "cell_type": "code",
   "execution_count": null,
   "metadata": {},
   "outputs": [],
   "source": [
    "BATCH_SIZE = 64\n",
    "DEVICE = torch.device(\"cuda\" if torch.cuda.is_available() else \"cpu\")\n",
    "\n",
    "checkpoint_dpath = os.path.join(PROJECT_DPATH, \"checkpoints\")\n",
    "model_fpath = os.path.join(checkpoint_dpath, \"best_valid_with_augmentations.pth\")\n",
    "\n",
    "infer = Inference.from_file(model_fpath, device= DEVICE)\n",
    "\n",
    "model = MlpModel()\n",
    "model = model.to(DEVICE)\n",
    "model.load_state_dict(torch.load(model_fpath)[\"model_state\"])"
   ]
  },
  {
   "cell_type": "code",
   "execution_count": null,
   "metadata": {},
   "outputs": [],
   "source": [
    "def data_fgsm_attack(model, device, test_loader, epsilon ):\n",
    "    output_data=[]\n",
    "    origin_data=[]\n",
    "    # Loop over all examples in test set\n",
    "    for data, target in tqdm(test_loader):\n",
    "        # Send the data and label to the device\n",
    "        data, target = data.to(device), target.to(device)\n",
    "        \n",
    "        # Set requires_grad attribute of tensor. Important for Attack\n",
    "        data.requires_grad = True\n",
    "\n",
    "        # Forward pass the data through the model\n",
    "        output = model(data.reshape(-1, 28 * 28))\n",
    "        init_pred = output.max(1, keepdim=True)[1]# get the index of the max log-probability\n",
    "        \n",
    "        # If the initial prediction is wrong, dont bother attacking, just move on\n",
    "        if init_pred.item() != target.item():\n",
    "            continue\n",
    "\n",
    "        # Calculate the loss\n",
    "        loss = F.nll_loss(output, target)\n",
    "\n",
    "        # Zero all existing gradients\n",
    "        model.zero_grad()\n",
    "\n",
    "        # Calculate gradients of model in backward pass\n",
    "        loss.backward()\n",
    "\n",
    "        # Collect datagrad\n",
    "        data_grad = data.grad.data\n",
    "        \n",
    "        # Call FGSM Attack\n",
    "        perturbed_data = fgsm_attack(data.reshape(-1, 28 * 28), epsilon, data_grad.reshape(-1, 28 * 28))\n",
    "\n",
    "        # Transform tensor to type PIL.Image.Image \n",
    "        perturbed_data = np.reshape(perturbed_data.cpu().detach().numpy(),(28,28))\n",
    "        perturbed_data = Image.fromarray(perturbed_data)\n",
    "\n",
    "        output_data.append([perturbed_data,target.item()])\n",
    "\n",
    "        # Collect origin data examples for visualisation \n",
    "        original_img = np.reshape(data.cpu().detach().numpy(),(28,28))\n",
    "        original_img = Image.fromarray(original_img)\n",
    "        origin_data.append([original_img,target.item()])\n",
    "\n",
    "    return output_data, origin_data\n"
   ]
  },
  {
   "cell_type": "markdown",
   "metadata": {},
   "source": [
    "Рассмотрим влияние атак на точность работы модели. Возьмем несколько epsilon для анализа."
   ]
  },
  {
   "cell_type": "markdown",
   "metadata": {},
   "source": [
    "### Epsilon = 0.05"
   ]
  },
  {
   "cell_type": "code",
   "execution_count": null,
   "metadata": {},
   "outputs": [],
   "source": [
    "eps=0.05\n",
    "\n",
    "# Getting data with fgsm attack\n",
    "perturbed_data, origin_data = data_fgsm_attack(\n",
    "    model, DEVICE, test_dataloader, eps\n",
    ") \n",
    "\n",
    "evaluator = Evaluator(infer, perturbed_data)\n",
    "predictions = evaluator.evaluate()\n",
    "metrics =evaluator.classification_report()\n",
    "\n",
    "print(f'Classification report with fgsm attack eps={eps}')\n",
    "print(metrics)"
   ]
  },
  {
   "cell_type": "markdown",
   "metadata": {},
   "source": [
    "Получим предсказания для оригинальныых изображений"
   ]
  },
  {
   "cell_type": "code",
   "execution_count": null,
   "metadata": {},
   "outputs": [],
   "source": [
    "evaluator = Evaluator(infer, origin_data)\n",
    "# Getting predictions \n",
    "predictions_without_attack = evaluator.evaluate()\n",
    "# Getting metrics\n",
    "source_metrics =evaluator.classification_report()\n",
    "\n",
    "print(f'Classification report with origianl img')\n",
    "print(source_metrics)"
   ]
  },
  {
   "cell_type": "markdown",
   "metadata": {},
   "source": [
    "Посмотрим на оригинальные изображения и изображения с аттакой с epsilon = 0.05"
   ]
  },
  {
   "cell_type": "code",
   "execution_count": null,
   "metadata": {},
   "outputs": [],
   "source": [
    "# Сохраним данные для визуализации при eps=0.05\n",
    "eps_05=eps\n",
    "predictions_05=predictions\n",
    "perturbed_data_05=perturbed_data"
   ]
  },
  {
   "cell_type": "code",
   "execution_count": null,
   "metadata": {},
   "outputs": [],
   "source": [
    "@interact\n",
    "def show_predictions(index=IntSlider(val=0, min=0, max=len(perturbed_data)-1)):\n",
    "\n",
    "    or_img,_= origin_data[index]\n",
    "    or_img = np.array(or_img)\n",
    "    pred_label_without_attack = predictions_without_attack.iloc[index,1]\n",
    "\n",
    "\n",
    "    test_img_05,target_05= perturbed_data_05[index]\n",
    "    test_img_05 = np.array(test_img_05)\n",
    "    pred_label_05 = predictions_05.iloc[index,1]\n",
    "\n",
    "    fig, ax = plt.subplots(nrows=1, ncols=2, figsize=[10, 10])\n",
    "\n",
    "    ax[0].imshow(or_img,cmap='gray')\n",
    "    ax[0].set_title(\"Original image\")\n",
    "    ax[1].imshow(test_img_05,cmap='gray')\n",
    "    ax[1].set_title(f\"Epsilon : {eps_05}\")\n",
    "    \n",
    "    print(f\"True Label: {target_05}\")\n",
    "    print(f\"Predicted Label without attack: {pred_label_without_attack}\")\n",
    "    print(f\"Predicted Label with fgsm attack: {pred_label_05}\")\n",
    "    plt.show()"
   ]
  },
  {
   "cell_type": "markdown",
   "metadata": {},
   "source": [
    "### Epsilon = 0.1"
   ]
  },
  {
   "cell_type": "code",
   "execution_count": null,
   "metadata": {},
   "outputs": [],
   "source": [
    "eps=0.1\n",
    "\n",
    "# Getting data with fgsm attack\n",
    "perturbed_data, origin_data = data_fgsm_attack(\n",
    "    model, DEVICE, test_dataloader, eps\n",
    ")\n",
    "mnist_evaluator= Evaluator(infer, perturbed_data)\n",
    "# Getting predictions \n",
    "predictions = mnist_evaluator.evaluate()\n",
    "# Getting metrics\n",
    "metrics =mnist_evaluator.classification_report()\n",
    "\n",
    "print(f'Classification report with fgsm attack eps={eps}')\n",
    "print(metrics)"
   ]
  },
  {
   "cell_type": "code",
   "execution_count": null,
   "metadata": {},
   "outputs": [],
   "source": [
    "# Сохраним данные для визуализации \n",
    "eps_01 = eps\n",
    "predictions_01 = predictions\n",
    "perturbed_data_01 = perturbed_data"
   ]
  },
  {
   "cell_type": "markdown",
   "metadata": {},
   "source": [
    "Посмотрим на изображение с epsilon = 0.1"
   ]
  },
  {
   "cell_type": "code",
   "execution_count": null,
   "metadata": {},
   "outputs": [],
   "source": [
    "@interact\n",
    "def show_predictions(index=IntSlider(val=0, min=0, max=len(perturbed_data)-1)):\n",
    "\n",
    "    or_img,_= origin_data[index]\n",
    "    or_img = np.array(or_img)\n",
    "    pred_label_without_attack = predictions_without_attack.iloc[index,1]\n",
    "\n",
    "\n",
    "    test_img_01,target_01= perturbed_data_01[index]\n",
    "    test_img_01 = np.array(test_img_01)\n",
    "    pred_label_01 = predictions_01.iloc[index,1]\n",
    "\n",
    "    fig, ax = plt.subplots(nrows=1, ncols=2, figsize=[10, 10])\n",
    "\n",
    "    ax[0].imshow(or_img,cmap='gray')\n",
    "    ax[0].set_title(\"Original image\")\n",
    "    ax[1].imshow(test_img_01,cmap='gray')\n",
    "    ax[1].set_title(f\"Epsilon : {eps_01}\")\n",
    "    \n",
    "    print(f\"True Label: {target_01}\")\n",
    "    print(f\"Predicted Label without attack: {pred_label_without_attack}\")\n",
    "    print(f\"Predicted Label with attack: {pred_label_01}\")\n",
    "    plt.show()\n"
   ]
  }
 ],
 "metadata": {
  "interpreter": {
   "hash": "9c2f5a87efeacbcdc5a13c8ed7753f5a831829b2302e02892a45494710f6e461"
  },
  "kernelspec": {
   "display_name": "Python 3.8.12 ('.venv': poetry)",
   "language": "python",
   "name": "python3"
  },
  "language_info": {
   "codemirror_mode": {
    "name": "ipython",
    "version": 3
   },
   "file_extension": ".py",
   "mimetype": "text/x-python",
   "name": "python",
   "nbconvert_exporter": "python",
   "pygments_lexer": "ipython3",
   "version": "3.8.12"
  }
 },
 "nbformat": 4,
 "nbformat_minor": 2
}
