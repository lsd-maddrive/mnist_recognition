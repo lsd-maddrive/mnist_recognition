{
 "cells": [
  {
   "cell_type": "code",
   "execution_count": null,
   "metadata": {},
   "outputs": [],
   "source": [
    "%load_ext autoreload\n",
    "%autoreload 2\n",
    "\n",
    "import sys\n",
    "import os\n",
    "\n",
    "PROJECT_DPATH = os.path.abspath(os.pardir)\n",
    "DATA_DPATH = os.path.join(PROJECT_DPATH, \"data\")\n",
    "\n",
    "# for pip environment\n",
    "sys.path.append(PROJECT_DPATH)\n",
    "\n",
    "import torch\n",
    "import torchvision\n",
    "\n",
    "from ipywidgets import interact, IntSlider\n",
    "import matplotlib.pyplot as plt\n",
    "import numpy as np\n",
    "\n",
    "from mnist_recognition.inference import Inference\n",
    "from mnist_recognition.transforms import Invertor"
   ]
  },
  {
   "cell_type": "markdown",
   "metadata": {},
   "source": [
    "## Загрузка обученной модели"
   ]
  },
  {
   "cell_type": "code",
   "execution_count": null,
   "metadata": {},
   "outputs": [],
   "source": [
    "BATCH_SIZE = 64\n",
    "DEVICE = torch.device(\"cuda\" if torch.cuda.is_available() else \"cpu\")\n",
    "\n",
    "checkpoint_dpath = os.path.join(PROJECT_DPATH, \"checkpoints\")\n",
    "model_fpath = os.path.join(checkpoint_dpath, \"best_valid_with_augmentations.pth\")\n",
    "\n",
    "infer = Inference.from_file(model_fpath, device= DEVICE)"
   ]
  },
  {
   "cell_type": "markdown",
   "metadata": {},
   "source": [
    "## Загрузка тестовых данных"
   ]
  },
  {
   "cell_type": "code",
   "execution_count": null,
   "metadata": {},
   "outputs": [],
   "source": [
    "test_data = torchvision.datasets.MNIST(\n",
    "   DATA_DPATH, train=False, transform=Invertor(), download=True\n",
    ")\n",
    "\n",
    "# Создаём лоядеры данных.\n",
    "# так как модель ожидает данные в определённой форме\n",
    "test_dataloader=torch.utils.data.DataLoader(\n",
    "    dataset=test_data, \n",
    "    batch_size=BATCH_SIZE,\n",
    "    shuffle=False\n",
    ")\n",
    "\n",
    "print(f\"Тестовая выборка содержит {len(test_data)} изображений\")"
   ]
  },
  {
   "cell_type": "code",
   "execution_count": null,
   "metadata": {},
   "outputs": [],
   "source": [
    "@interact\n",
    "def show_inference(index = IntSlider(val=0, min=0, max=len(test_data)-1)):\n",
    "    test_img, _true_label = test_data[index]\n",
    "    test_img = np.array(test_img)\n",
    "    pred_label = infer.get_prediction(test_img)\n",
    "\n",
    "    plt.figure(figsize=[5, 5])\n",
    "    plt.imshow(test_img, cmap=\"gray\")\n",
    "    plt.title(f\"Предсказанный класс: {pred_label}\")\n",
    "    plt.show()"
   ]
  },
  {
   "cell_type": "code",
   "execution_count": null,
   "metadata": {},
   "outputs": [],
   "source": []
  }
 ],
 "metadata": {
  "interpreter": {
   "hash": "9c2f5a87efeacbcdc5a13c8ed7753f5a831829b2302e02892a45494710f6e461"
  },
  "kernelspec": {
   "display_name": "Python 3.8.12 ('.venv': poetry)",
   "language": "python",
   "name": "python3"
  },
  "language_info": {
   "codemirror_mode": {
    "name": "ipython",
    "version": 3
   },
   "file_extension": ".py",
   "mimetype": "text/x-python",
   "name": "python",
   "nbconvert_exporter": "python",
   "pygments_lexer": "ipython3",
   "version": "3.8.12"
  }
 },
 "nbformat": 4,
 "nbformat_minor": 2
}
