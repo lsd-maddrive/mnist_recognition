{
 "cells": [
  {
   "cell_type": "markdown",
   "metadata": {
    "colab_type": "text",
    "id": "Qesf_YoJGLD4"
   },
   "source": [
    "# Знакомимся с основами Python (Часть 2)"
   ]
  },
  {
   "cell_type": "markdown",
   "metadata": {},
   "source": [
    "# Содержание <a name=\"content\"></a>\n",
    "\n",
    "* [Циклы](#Tsikly)\n",
    "    * [Задание](#Zadanie)\n",
    "    * [Задание](#Zadanie_1)\n",
    "* [Функции](#Funktsii)\n",
    "    * [Задание](#Zadanie_1_1)\n",
    "* [Классы и объекты](#Klassy_i_ob_ekty)\n",
    "  * [Задание](#Zadanie_1_1_1)\n",
    "* [Форматированные строки <a name=\"fstr\"><a/>](#Formatirovannye_stroki_<a_name=\"fstr\"><a/>)\n",
    "  * [Задание](#Zadanie_1_1_1_1)\n",
    "* [Больше тренировок!](#Bol_she_trenirovok!)\n",
    "* [Полезные ссылки](#Poleznye_ssylki)\n"
   ]
  },
  {
   "cell_type": "markdown",
   "metadata": {
    "colab_type": "text",
    "id": "Z23ssWtAboFC"
   },
   "source": [
    "# Циклы <a name=\"loops\"></a>"
   ]
  },
  {
   "cell_type": "markdown",
   "metadata": {
    "colab_type": "text",
    "id": "RESCcfwXb0Kd"
   },
   "source": [
    "С переменными освоились, но только на них логику не построить - нужно уметь создавать управляющую логику и **циклы** - один из важных интсрументов в языках. Начнем с простого `while`. Как и во многих языках он проверяет условное значение на каждой итерации."
   ]
  },
  {
   "cell_type": "code",
   "execution_count": 63,
   "metadata": {
    "_cell_id": "c3j27xdcg2lMLzge",
    "colab": {
     "base_uri": "https://localhost:8080/",
     "height": 190
    },
    "colab_type": "code",
    "executionInfo": {
     "elapsed": 5548,
     "status": "ok",
     "timestamp": 1598099633755,
     "user": {
      "displayName": "Алексей Девяткин",
      "photoUrl": "",
      "userId": "11945040185410340858"
     },
     "user_tz": -180
    },
    "id": "hZATQDonZVaV",
    "outputId": "c373df37-8f92-4a0e-ea7c-658cf0666bc4"
   },
   "outputs": [
    {
     "name": "stdout",
     "output_type": "stream",
     "text": [
      "0\n",
      "1\n",
      "2\n",
      "3\n",
      "4\n",
      "5\n",
      "6\n",
      "7\n",
      "8\n",
      "9\n"
     ]
    }
   ],
   "source": [
    "iter = 0\n",
    "while iter < 10:\n",
    "    print(iter)\n",
    "    # Python не имеет операций инкремента/декремента (++/--)\n",
    "    iter += 1"
   ]
  },
  {
   "cell_type": "markdown",
   "metadata": {
    "colab_type": "text",
    "id": "Y_8of8XGdnQr"
   },
   "source": [
    "Вот и получился простой цикл от 0 до 9. Но такую конструкцию вы вряд ли встретите, так как для генерации последовательности чисел есть очень полезная функция `range()`. Сделаем то же самое, но в цикле `for` и с помощью нового ключевого слова `in`."
   ]
  },
  {
   "cell_type": "code",
   "execution_count": 42,
   "metadata": {
    "_cell_id": "onyLGcTJFiz4soCm",
    "colab": {
     "base_uri": "https://localhost:8080/",
     "height": 190
    },
    "colab_type": "code",
    "executionInfo": {
     "elapsed": 5531,
     "status": "ok",
     "timestamp": 1598099633755,
     "user": {
      "displayName": "Алексей Девяткин",
      "photoUrl": "",
      "userId": "11945040185410340858"
     },
     "user_tz": -180
    },
    "id": "0FGI7UWadhMT",
    "outputId": "5ded65cc-f73d-4439-dc5f-1885e9b76c78"
   },
   "outputs": [
    {
     "name": "stdout",
     "output_type": "stream",
     "text": [
      "0\n",
      "1\n",
      "2\n",
      "3\n",
      "4\n",
      "5\n",
      "6\n",
      "7\n",
      "8\n",
      "9\n"
     ]
    }
   ],
   "source": [
    "for iter in range(10):\n",
    "    print(iter)"
   ]
  },
  {
   "cell_type": "markdown",
   "metadata": {
    "colab_type": "text",
    "id": "dw0nt51Nee7R"
   },
   "source": [
    "Немного слов о том, что здесь творится. Ключевое слово `in` в конструкции цикла `for` выполняет функцию получения значений одного за другим из списка справа. На самом деле, функция `range()` создает объект подобный списку, по которому цикл проходит и в каждой итерации размещает значение в переменную `iter`, которую мы и выводим."
   ]
  },
  {
   "cell_type": "markdown",
   "metadata": {
    "colab_type": "text",
    "id": "NaMYoLkBe47b"
   },
   "source": [
    "### Задание <a name=\"task_1\"></a>\n",
    "\n",
    "Закрепим, создайте свой список и выполните проход по нему с помощью цикла `for`."
   ]
  },
  {
   "cell_type": "code",
   "execution_count": 43,
   "metadata": {
    "_cell_id": "Z9cpvnpKnA1hEDCM",
    "colab": {},
    "colab_type": "code",
    "id": "_qqbULlVeI92"
   },
   "outputs": [
    {
     "name": "stdout",
     "output_type": "stream",
     "text": [
      "1\n",
      "10\n",
      "100\n",
      "1000\n",
      "5\n"
     ]
    }
   ],
   "source": [
    "var_list=['1','10','100','1000',5]\n",
    "for i in range(5):\n",
    "    print(var_list[i])"
   ]
  },
  {
   "cell_type": "markdown",
   "metadata": {
    "colab_type": "text",
    "id": "vL4OjGWpfLRj"
   },
   "source": [
    "Также, в Python присутствуют ключевые слова `break` и `continue`. Первое слово прерывает цикл, второе - переходит к следующей итерации."
   ]
  },
  {
   "cell_type": "markdown",
   "metadata": {},
   "source": [
    "### Задание\n",
    "\n",
    "Создайте список из 20 последовательных элементов от 5 до 25 и выведите первые 10 элементов. Обратите внимание, что нужно вывести именно ПЕРВЫЕ!"
   ]
  },
  {
   "cell_type": "code",
   "execution_count": 44,
   "metadata": {
    "_cell_id": "4PmBxdUcl1MhOoSf"
   },
   "outputs": [
    {
     "data": {
      "text/plain": [
       "range(5, 15)"
      ]
     },
     "execution_count": 44,
     "metadata": {},
     "output_type": "execute_result"
    }
   ],
   "source": [
    "# listing=[5,6,7,8,9,10,11,12,13,14,15,16,17,18,19,20,21,22,23,24,25]\n",
    "# for i in range (20):\n",
    "#     if (i==10):\n",
    "#         break\n",
    "#     print(listing[i])\n",
    "\n",
    "range(5,25)[:10]\n",
    "\n",
    "\n"
   ]
  },
  {
   "cell_type": "markdown",
   "metadata": {
    "colab_type": "text",
    "id": "izqk9TF-fgWy"
   },
   "source": [
    "# Функции <a name=\"func\"></a>"
   ]
  },
  {
   "cell_type": "markdown",
   "metadata": {
    "colab_type": "text",
    "id": "yp2KA4r9fwiQ"
   },
   "source": [
    "После того, как мы научились строить зацикленные конструкции, проходить по спискам, нужно научиться объединять код в функции, что делает его более структурированным и понятным, а также исключает огромное количество ошибок. Для начала определим простую функцию, которая выполняет суммирование."
   ]
  },
  {
   "cell_type": "code",
   "execution_count": 45,
   "metadata": {
    "_cell_id": "AqFdpRaj71FtQUwO",
    "colab": {},
    "colab_type": "code",
    "id": "6mLZC3UxfK1C"
   },
   "outputs": [],
   "source": [
    "def summation(a, b):\n",
    "    return a + b"
   ]
  },
  {
   "cell_type": "markdown",
   "metadata": {
    "colab_type": "text",
    "id": "UIWT2KgRgJal"
   },
   "source": [
    "- `def` - ключевое слово определения функции;\n",
    "- `summation` - название функции;\n",
    "- `a, b` - два аргумента функции;\n",
    "- `return` - ключевое слово возврата результата функции; если не определено - функция вернет None;\n",
    "\n",
    "Хорошо, функцию определили, пора бы ее использовать."
   ]
  },
  {
   "cell_type": "code",
   "execution_count": 46,
   "metadata": {
    "_cell_id": "gSBEkxGZG2SYE9B2",
    "colab": {},
    "colab_type": "code",
    "id": "bPH90n6igfbg"
   },
   "outputs": [],
   "source": [
    "result = summation(1, 4)"
   ]
  },
  {
   "cell_type": "code",
   "execution_count": 47,
   "metadata": {
    "_cell_id": "rANN76DeYtZaEkoM",
    "colab": {
     "base_uri": "https://localhost:8080/",
     "height": 34
    },
    "colab_type": "code",
    "executionInfo": {
     "elapsed": 5481,
     "status": "ok",
     "timestamp": 1598099633758,
     "user": {
      "displayName": "Алексей Девяткин",
      "photoUrl": "",
      "userId": "11945040185410340858"
     },
     "user_tz": -180
    },
    "id": "k_5TxLEOJ-Ds",
    "outputId": "8a002a6a-6a20-4dca-a90b-eb8adc70f86c"
   },
   "outputs": [
    {
     "data": {
      "text/plain": [
       "5"
      ]
     },
     "execution_count": 47,
     "metadata": {},
     "output_type": "execute_result"
    }
   ],
   "source": [
    "result"
   ]
  },
  {
   "cell_type": "markdown",
   "metadata": {
    "colab_type": "text",
    "id": "LUEMHb0QgqFr"
   },
   "source": [
    "Отлично, мы видим в выводе, что результат соответствует ожиданиям.\n",
    "\n",
    "> Не забывайте, что много кода присутствует в стандартной библиотеке Python и устанавливаемых модулях. Например, гляньте здесь: https://docs.python.org/3/library/functions.html. Также, гугл всегда поможет!"
   ]
  },
  {
   "cell_type": "markdown",
   "metadata": {
    "colab_type": "text",
    "id": "w0rvY_XicwbT"
   },
   "source": [
    "### Задание <a name=\"task_2\"></a>\n",
    "\n",
    "Напишите функцию для вычисления периметра прямоугольника. В качестве аргументов передайте стороны прямоугольника."
   ]
  },
  {
   "cell_type": "code",
   "execution_count": 48,
   "metadata": {
    "_cell_id": "xrRVFTVA9aw7HIPt",
    "colab": {},
    "colab_type": "code",
    "id": "4DE6yOUsdUcR"
   },
   "outputs": [
    {
     "name": "stdout",
     "output_type": "stream",
     "text": [
      "30\n"
     ]
    }
   ],
   "source": [
    "#def param (a,b):\n",
    "def get_rect_perimetr(a,b):\n",
    "#  P=2*a+2*b\n",
    "#  S=a*b\n",
    "    return 2*(a+b)  \n",
    "  \n",
    "print(get_rect_perimetr(10,5))\n",
    "    "
   ]
  },
  {
   "cell_type": "markdown",
   "metadata": {
    "colab_type": "text",
    "id": "rktsjak0Bnyc"
   },
   "source": [
    "# Классы и объекты <a name=\"cls\"></a>"
   ]
  },
  {
   "cell_type": "markdown",
   "metadata": {
    "colab_type": "text",
    "id": "EpqTR9tRBsQD"
   },
   "source": [
    "Для дальнейшей работы мы пройдемся по основным понятиям, связанным с классами. **Крайне рекомендуется ознакомиться с концепцией ООП в специализированной литературе**, а в данной секции мы просто конкретизируем терминологию, чтобы далее ее использовать.\n",
    "\n",
    "> ООП = объектно ориентированное программирование\n",
    "\n",
    "> Полезные ссылки:\n",
    "> - https://python-scripts.com/object-oriented-programming-in-python\n",
    "\n",
    "Язык Python является интерпретируемым и имеет поддержку ООП. Эти два факта приводят к одному простому правилу: **в языке Python все является объектом**.\n",
    "\n",
    "Что это значит? Да именно то, что даже определение переменной создает объект. По сравнению с, например, языком С++, где создание переменной через `int var = 3;` лишь выделяет кусочек памяти, то в Python `var = 3` создает объект класса. "
   ]
  },
  {
   "cell_type": "markdown",
   "metadata": {
    "colab_type": "text",
    "id": "iL7gOQb9hFwi"
   },
   "source": [
    "Теперь обратимся к четырем основным терминам, которые относятся к теме:\n",
    "- **класс** - прототип, описание, которое определяет содержание объектов;\n",
    "- **объект** - сущность определенного класса, если класс считать чертежом машины, то объект - сама машина по чертежу;\n",
    "- **атрибуты класса** - переменные, которые содержатся в классе (и, соответственно, в объектах);\n",
    "- **методы класса** - функции, которые содержатся в классе (и, соответственно, в объектах).\n",
    "\n",
    "> Данные описания терминов не являются точными и нацелены на упрощение понимания, нежели на точную характеристику.\n",
    "\n",
    "Разберем на примере языка Python и научимся писать свои. \n",
    "\n",
    "Для начала создадим класс `MyClass`: \n",
    "\n",
    "1) создадим конструктор (метод, который вызывается при создании объекта данного класса - `__init__()`) с аргументом `value`\n",
    "\n",
    "2) метод `sample_method()`\n",
    "\n",
    "3) определим член класса `member_var` со значением 10. \n",
    "\n",
    "4) В конструкторе сохраним значение аргумента в `member_var`. Метод будет выводить некоторую информацию и отображать значение члена класса `member_var`.\n"
   ]
  },
  {
   "cell_type": "code",
   "execution_count": 49,
   "metadata": {
    "_cell_id": "GADdzfLrjMcgMuxI"
   },
   "outputs": [],
   "source": [
    "class MyClass:\n",
    "    def __init__(self, value):\n",
    "        self.member_var = value\n",
    "    \n",
    "    def sample_method(self):\n",
    "        print(f'sample_method() called with {self.member_var}')"
   ]
  },
  {
   "cell_type": "markdown",
   "metadata": {
    "colab_type": "text",
    "id": "mcLT-u9GjBx9"
   },
   "source": [
    "! Обратите внимание, во всех методах передается первым аргументом некоторый `self` - это фактически указатель на объект класса. \n",
    "\n",
    "Запись `self.member_var = value` означает \"объекту 'Я' в атрибут класса `member_var` записать значение `value`\". \n",
    "\n",
    "Этот аргумент нужен, чтобы управлять содержанием объекта явно, так как в конструкторе можно создать переменную `member_var` без `self`, но от этого она не станет атрибутом класса - просто локальной переменной внутри конструктора."
   ]
  },
  {
   "cell_type": "markdown",
   "metadata": {
    "colab_type": "text",
    "id": "6emUcq7akUih"
   },
   "source": [
    "После того, как класс написан, надо создать объект, а лучше парочку, и вызвать методы."
   ]
  },
  {
   "cell_type": "code",
   "execution_count": 50,
   "metadata": {
    "_cell_id": "apYHZaNAR3zlT4BN"
   },
   "outputs": [
    {
     "name": "stdout",
     "output_type": "stream",
     "text": [
      "sample_method() called with 10\n",
      "sample_method() called with 20\n",
      "\n",
      "----- After modification -----\n",
      "\n",
      "sample_method() called with 11\n"
     ]
    }
   ],
   "source": [
    "my_object_1 = MyClass(10)\n",
    "my_object_2 = MyClass(20)\n",
    "\n",
    "my_object_1.sample_method()\n",
    "my_object_2.sample_method()\n",
    "\n",
    "# Обратимся к члену класса member_var конкретного объекта, модифицируем и выведем еще раз\n",
    "my_object_1.member_var = 11\n",
    "print('\\n----- After modification -----\\n')\n",
    "my_object_1.sample_method()\n"
   ]
  },
  {
   "cell_type": "markdown",
   "metadata": {
    "colab_type": "text",
    "id": "IogpB_DVk0hW"
   },
   "source": [
    "Мы выяснили, как создать объект класса, передать в конструктор аргументы и получить доступ к членам и методам класса конкретного объекта. Как видим, это несложно и нужно для понимания того, что в следующем коде делаются аналогичные вещи (создается объект класса `list`, и вызывается метод `append()`)."
   ]
  },
  {
   "cell_type": "code",
   "execution_count": 51,
   "metadata": {
    "_cell_id": "LZ2mpkGCJNcQAxnV",
    "colab": {
     "base_uri": "https://localhost:8080/",
     "height": 34
    },
    "colab_type": "code",
    "executionInfo": {
     "elapsed": 5443,
     "status": "ok",
     "timestamp": 1598099633760,
     "user": {
      "displayName": "Алексей Девяткин",
      "photoUrl": "",
      "userId": "11945040185410340858"
     },
     "user_tz": -180
    },
    "id": "-hLaQseQlcFf",
    "outputId": "701cb063-9fc8-437f-a26e-b031311eb6eb"
   },
   "outputs": [
    {
     "data": {
      "text/plain": [
       "[1, 2, 3, 10]"
      ]
     },
     "execution_count": 51,
     "metadata": {},
     "output_type": "execute_result"
    }
   ],
   "source": [
    "sample_list = list([1, 2, 3])\n",
    "# То же самое: sample_list = [1, 2, 3]\n",
    "\n",
    "sample_list.append(10)\n",
    "\n",
    "sample_list"
   ]
  },
  {
   "cell_type": "markdown",
   "metadata": {
    "colab_type": "text",
    "id": "G8vKMdvPl5B0"
   },
   "source": [
    "Замечательно! Вспомнили основные понятия, которые относятся к классам и готовы идти дальше!\n",
    "\n",
    "Для чего это нужно? Большинство модулей строится на основе классов, так как это отличный способ разделить код по частям, чтобы затем из них было проще собирать конечную программу."
   ]
  },
  {
   "cell_type": "markdown",
   "metadata": {
    "colab_type": "text",
    "id": "tyr2BxI8hJ__"
   },
   "source": [
    "## Задание <a name=\"task_3\"></a>\n",
    "\n",
    "Напишите класс без конструктора (так можно, у него будет конструктор по-умолчанию) с методом, который на вход принимает число `x` и производит вычисления по формуле: $2*e^{x}$ \n",
    "\n",
    "Для вычисления степени экспоненты воспользуйтесь функцией `exp()` модуля `math` (не забудьте подключить его, устаналивать не требуется). \n",
    "\n",
    "Выведите в цикле значения метода при целочисленных аргументах от 4 до 12 с использованием новой функции.\n",
    "\n",
    "> Для создания диапазона чисел (для цикла) воспользуйтесь справкой функции `range()`"
   ]
  },
  {
   "cell_type": "code",
   "execution_count": 52,
   "metadata": {
    "_cell_id": "1SYEEFNloPAmXXnd",
    "colab": {},
    "colab_type": "code",
    "id": "LXnvKjIQgo8O"
   },
   "outputs": [
    {
     "name": "stdout",
     "output_type": "stream",
     "text": [
      "109.19630006628847\n",
      "296.8263182051532\n",
      "806.8575869854702\n",
      "2193.266316856917\n",
      "5961.915974083457\n",
      "16206.167855150768\n",
      "44052.931589613436\n",
      "119748.28343039563\n"
     ]
    }
   ],
   "source": [
    "import math\n",
    "class Calc:\n",
    "    def calc_exp(self,x):\n",
    "        return (2* math.exp(x))    \n",
    "my_class=Calc()       \n",
    "for i in range(4,12):\n",
    "    print(my_class.calc_exp(i))\n"
   ]
  },
  {
   "cell_type": "markdown",
   "metadata": {
    "colab_type": "text",
    "id": "LSPXTvDOdeAK"
   },
   "source": [
    "# Форматированные строки <a name=\"fstr\"><a/>"
   ]
  },
  {
   "cell_type": "markdown",
   "metadata": {
    "colab_type": "text",
    "id": "DcEgqT34diH0"
   },
   "source": [
    "> **Форматированные строки** - строки со втроенными значениями данных. Более подробно в примере:"
   ]
  },
  {
   "cell_type": "code",
   "execution_count": 53,
   "metadata": {
    "_cell_id": "I9le1kI3YLoJT6O0",
    "colab": {},
    "colab_type": "code",
    "id": "UsC4mJvnaru3"
   },
   "outputs": [],
   "source": [
    "name = 'Юзер'\n",
    "age = 30"
   ]
  },
  {
   "cell_type": "markdown",
   "metadata": {
    "colab_type": "text",
    "id": "EAjDUBG-aylQ"
   },
   "source": [
    "Положим, что мы имеем представленные переменные и хотим вывести строку \"Привет, меня зовут Юзер и мне 30\". Форматирование строки - как раз способ встроить данные в строку.\n",
    "\n",
    "Первый способ похож на форматирование строк в языке С. Для форматирования используется оператор `%`, шаблон строки и кортеж с данными для заполнения шаблона:"
   ]
  },
  {
   "cell_type": "code",
   "execution_count": 54,
   "metadata": {
    "_cell_id": "nPuMKvo8jMr8Y4em",
    "colab": {
     "base_uri": "https://localhost:8080/",
     "height": 33
    },
    "colab_type": "code",
    "executionInfo": {
     "elapsed": 657,
     "status": "ok",
     "timestamp": 1598724902993,
     "user": {
      "displayName": "Алексей Девяткин",
      "photoUrl": "",
      "userId": "11945040185410340858"
     },
     "user_tz": -180
    },
    "id": "-QD8qJBkbTQ2",
    "outputId": "83a88d98-5df5-4351-a164-9bb6f1dd8abb"
   },
   "outputs": [
    {
     "name": "stdout",
     "output_type": "stream",
     "text": [
      "Привет, меня зовут Юзер и мне 30\n"
     ]
    }
   ],
   "source": [
    "template_string = 'Привет, меня зовут %s и мне %d'\n",
    "formatted_string = template_string % (name, age)\n",
    "print(formatted_string)"
   ]
  },
  {
   "cell_type": "code",
   "execution_count": 55,
   "metadata": {
    "_cell_id": "FaDGGCg9QPvtZQa0",
    "colab": {
     "base_uri": "https://localhost:8080/",
     "height": 33
    },
    "colab_type": "code",
    "executionInfo": {
     "elapsed": 623,
     "status": "ok",
     "timestamp": 1598725393370,
     "user": {
      "displayName": "Алексей Девяткин",
      "photoUrl": "",
      "userId": "11945040185410340858"
     },
     "user_tz": -180
    },
    "id": "z0gSLv6idPec",
    "outputId": "0e8e06cc-055e-4462-ae92-7f9bf9c30687"
   },
   "outputs": [
    {
     "name": "stdout",
     "output_type": "stream",
     "text": [
      "Привет, меня зовут Юзер и мне 30\n"
     ]
    }
   ],
   "source": [
    "# То же самое, только раньше мы сохранили строку в переменную,\n",
    "#   а сейчас сразу в вывод\n",
    "print('Привет, меня зовут %s и мне %d' % (name, age))"
   ]
  },
  {
   "cell_type": "markdown",
   "metadata": {
    "colab_type": "text",
    "id": "gb9ajl4obhpT"
   },
   "source": [
    "То есть, в шаблоне расставляются места с указанием типа заполняемого значения и после через оператор `%` подставляется по порядку данные из кортежа. Так, значение `name` подставляется вместо `%s`, а `age` - вместо %d.\n",
    "\n",
    "Шаблоны формируются на основе следующих типов:\n",
    "- `%s` - строчные типы;\n",
    "- `%d` - целочисленный тип;\n",
    "- `%x` - целочисленный тип (в шестнадцатеричной системе);\n",
    "- `%f` - вещественный тип;\n"
   ]
  },
  {
   "cell_type": "code",
   "execution_count": 56,
   "metadata": {
    "_cell_id": "5mfShL7uEIOejp2n",
    "colab": {
     "base_uri": "https://localhost:8080/",
     "height": 33
    },
    "colab_type": "code",
    "executionInfo": {
     "elapsed": 625,
     "status": "ok",
     "timestamp": 1598725160703,
     "user": {
      "displayName": "Алексей Девяткин",
      "photoUrl": "",
      "userId": "11945040185410340858"
     },
     "user_tz": -180
    },
    "id": "uqnV03FccTHa",
    "outputId": "b7ac101a-9c90-4394-e0d6-e7ee7b620c3b"
   },
   "outputs": [
    {
     "name": "stdout",
     "output_type": "stream",
     "text": [
      "Сравним 0.333333, 0.33, 0.3\n"
     ]
    }
   ],
   "source": [
    "# Для %f можно задать количество цифр после запятой\n",
    "var = 0.33333333\n",
    "print('Сравним %f, %.2f, %.1f' % (var, var, var))"
   ]
  },
  {
   "cell_type": "markdown",
   "metadata": {
    "colab_type": "text",
    "id": "7r0g1PCmcsD8"
   },
   "source": [
    "Типов и способов представления данных намного больше, но мы не будем на этом останавливаться, так как для конкретной ситуации можно найти требуемое представление в документации или на форумах."
   ]
  },
  {
   "cell_type": "markdown",
   "metadata": {
    "colab_type": "text",
    "id": "HlMMyGQ0chYZ"
   },
   "source": [
    "Второй способ формирования является более \"питоническим\", так как для форматирования используется метод `str.format()` класса строки:"
   ]
  },
  {
   "cell_type": "code",
   "execution_count": 57,
   "metadata": {
    "_cell_id": "nERN66NvBERacPDC",
    "colab": {
     "base_uri": "https://localhost:8080/",
     "height": 33
    },
    "colab_type": "code",
    "executionInfo": {
     "elapsed": 588,
     "status": "ok",
     "timestamp": 1598725417973,
     "user": {
      "displayName": "Алексей Девяткин",
      "photoUrl": "",
      "userId": "11945040185410340858"
     },
     "user_tz": -180
    },
    "id": "bv_MWtxcdNok",
    "outputId": "6850aa68-e24b-4258-d646-2e67841f82e5"
   },
   "outputs": [
    {
     "name": "stdout",
     "output_type": "stream",
     "text": [
      "Привет, меня зовут Юзер и мне 30\n"
     ]
    }
   ],
   "source": [
    "print('Привет, меня зовут {} и мне {}'.format(name, age))"
   ]
  },
  {
   "cell_type": "markdown",
   "metadata": {
    "colab_type": "text",
    "id": "-zcxkqeRdlSc"
   },
   "source": [
    "Такой способ требует немного другого шаблона в виде фигурных скобок. Тип задавать не обязательно, расставляются данные по порядку. Для задания формата отображения, например, для вещественных чисел, устанавливается двоиточие и далее пишется дополнительное описание представления:"
   ]
  },
  {
   "cell_type": "code",
   "execution_count": 58,
   "metadata": {
    "_cell_id": "LSXhkIFXI5cVqush",
    "colab": {
     "base_uri": "https://localhost:8080/",
     "height": 33
    },
    "colab_type": "code",
    "executionInfo": {
     "elapsed": 588,
     "status": "ok",
     "timestamp": 1598725589226,
     "user": {
      "displayName": "Алексей Девяткин",
      "photoUrl": "",
      "userId": "11945040185410340858"
     },
     "user_tz": -180
    },
    "id": "8edDud8xd3TD",
    "outputId": "180b2122-387e-4e6e-9670-010fdf0e218b"
   },
   "outputs": [
    {
     "name": "stdout",
     "output_type": "stream",
     "text": [
      "Сравним 0.444444444, 0.44, 0.4\n"
     ]
    }
   ],
   "source": [
    "var = 0.444444444\n",
    "print('Сравним {}, {:.2f}, {:.1f}'.format(var, var, var))"
   ]
  },
  {
   "cell_type": "markdown",
   "metadata": {
    "colab_type": "text",
    "id": "TDxfY45DeJqj"
   },
   "source": [
    "Последнии способ является наиболее современны, так как появился в Python3.6 и называется \"f-строки\". В этом способе перемешивается понятия шаблона и данных, так что он бывает удобнее ранее представленных способов:"
   ]
  },
  {
   "cell_type": "code",
   "execution_count": 59,
   "metadata": {
    "_cell_id": "l8IlC7Be6WsT9CBm",
    "colab": {
     "base_uri": "https://localhost:8080/",
     "height": 33
    },
    "colab_type": "code",
    "executionInfo": {
     "elapsed": 608,
     "status": "ok",
     "timestamp": 1598725689611,
     "user": {
      "displayName": "Алексей Девяткин",
      "photoUrl": "",
      "userId": "11945040185410340858"
     },
     "user_tz": -180
    },
    "id": "djHTOKfneczr",
    "outputId": "b70c2b24-1c1e-497d-bb13-45e62530f571"
   },
   "outputs": [
    {
     "name": "stdout",
     "output_type": "stream",
     "text": [
      "Привет, меня зовут Юзер и мне 30\n"
     ]
    }
   ],
   "source": [
    "print(f'Привет, меня зовут {name} и мне {age}')"
   ]
  },
  {
   "cell_type": "markdown",
   "metadata": {
    "colab_type": "text",
    "id": "SeLMy01lehdm"
   },
   "source": [
    "Основные требования: перед строкой ставится символ `f` и в фигурные скобки записываются сами переменные. Для задания формата отображения также ставится двоеточие и задается формат:"
   ]
  },
  {
   "cell_type": "code",
   "execution_count": 60,
   "metadata": {
    "_cell_id": "oEeEuTUIEEciXvC5",
    "colab": {
     "base_uri": "https://localhost:8080/",
     "height": 33
    },
    "colab_type": "code",
    "executionInfo": {
     "elapsed": 531,
     "status": "ok",
     "timestamp": 1598725806464,
     "user": {
      "displayName": "Алексей Девяткин",
      "photoUrl": "",
      "userId": "11945040185410340858"
     },
     "user_tz": -180
    },
    "id": "altpRd4Ge1kG",
    "outputId": "0466876a-4134-48c9-ddfd-312c77365338"
   },
   "outputs": [
    {
     "name": "stdout",
     "output_type": "stream",
     "text": [
      "Сравним 0.173456, 0.17, 0.2\n"
     ]
    }
   ],
   "source": [
    "# Обратите внимание на округление!\n",
    "var = 0.173456\n",
    "print(f'Сравним {var}, {var:.2f}, {var:.1f}')"
   ]
  },
  {
   "cell_type": "markdown",
   "metadata": {
    "colab_type": "text",
    "id": "x48Zd_CYfBek"
   },
   "source": [
    "## Задание <a name=\"task_4\"></a>\n",
    "\n",
    "Напишите функцию, которая принимает имя, возраст и среднюю оценку в качестве аргументов и отображает данные тремя способами, рассмотренными ранее, в виде строк.\n",
    "\n",
    "```\n",
    "Добрый день! Мое имя: <name>, возраст: <age>, оценка: <avg_grade>. Приятно познакомиться!\n",
    "```\n",
    "\n",
    "> Средняя оценка должна отображаться не более, чем с двумя символами после запятой."
   ]
  },
  {
   "cell_type": "code",
   "execution_count": 61,
   "metadata": {
    "_cell_id": "7vvtIy96VWFre5E3",
    "colab": {},
    "colab_type": "code",
    "id": "aHV4yym-fXYc"
   },
   "outputs": [
    {
     "name": "stdout",
     "output_type": "stream",
     "text": [
      "Добрый день ! Мое имя: Marina, возраст 20, оценка: 4.53\n",
      "Добрый день ! Мое имя: Marina, возраст 20, оценка: 4.53\n",
      "Добрый день ! Мое имя: Marina, возраст 20, оценка: 4.53\n"
     ]
    }
   ],
   "source": [
    "def show_info(name, age, avg_grade):\n",
    "    pass\n",
    "    print('Добрый день ! Мое имя: %s, возраст %d, оценка: %.2f'%(name,age,avg_grade))\n",
    "    print('Добрый день ! Мое имя: {}, возраст {}, оценка: {:.2f}'.format(name,age,avg_grade))\n",
    "    print(f'Добрый день ! Мое имя: {name}, возраст {age}, оценка: {avg_grade:.2f}')\n",
    "\n",
    "# TODO - вызовите функцию со своими данными\n",
    "show_info('Marina',20,4.5345)\n",
    "# NOTE - должно отобразиться три одинаковые строки"
   ]
  },
  {
   "cell_type": "markdown",
   "metadata": {
    "colab_type": "text",
    "id": "6KTSxXmnLDA6"
   },
   "source": [
    "# Больше тренировок! <a name=\"links\"></a>"
   ]
  },
  {
   "cell_type": "markdown",
   "metadata": {
    "colab_type": "text",
    "id": "RvewWQC4LG5Y"
   },
   "source": [
    "- [Задачка на среднее](https://www.codewars.com/kata/563e320cee5dddcf77000158/train/python)\n",
    "- [Починка if условия](https://www.codewars.com/kata/57089707fe2d01529f00024a/train/python)\n",
    "- [Поиск неиспользованного ID](https://www.codewars.com/kata/55eea63119278d571d00006a/train/python)\n",
    "- [Работа со строками](https://www.codewars.com/kata/55a70521798b14d4750000a4/train/python)\n",
    "- [Определение четности](https://www.codewars.com/kata/53da3dbb4a5168369a0000fe/train/python)\n",
    "- [Удаление элементов строк (работа с индексами)](https://www.codewars.com/kata/56bc28ad5bdaeb48760009b0/train/python)\n",
    "- [Регулярные выражения](https://www.codewars.com/kata/57eae20f5500ad98e50002c5/train/python)\n",
    "- [Сложение](https://www.codewars.com/kata/55d24f55d7dd296eb9000030/train/python)\n",
    "- [Подсчет овечек](https://www.codewars.com/kata/54edbc7200b811e956000556/train/python)\n",
    "- [Подсчет гласных букв](https://www.codewars.com/kata/54ff3102c1bad923760001f3/train/python)\n",
    "- [Строки-числа, поиск минимума/максимума](https://www.codewars.com/kata/554b4ac871d6813a03000035/train/python)\n",
    "- [Поиск повторяющихся букв](https://www.codewars.com/kata/54ba84be607a92aa900000f1/train/python)\n",
    "- [Замена символов](https://www.codewars.com/kata/554e4a2f232cdd87d9000038/train/python)\n",
    "\n",
    "И т.д. на https://www.codewars.com/ "
   ]
  },
  {
   "cell_type": "markdown",
   "metadata": {},
   "source": [
    "# Полезные ссылки <a name='links'></a>\n",
    "Если хочется поиграть:\n",
    "  - https://codecombat.com/\n",
    "  - https://www.codingame.com/ide/puzzle/onboarding\n"
   ]
  }
 ],
 "metadata": {
  "colab": {
   "authorship_tag": "ABX9TyMU+sqBraszccX3TnJ39WiR",
   "collapsed_sections": [],
   "name": "Pr00_Python.ipynb",
   "provenance": [],
   "toc_visible": true
  },
  "interpreter": {
   "hash": "8ea0dca99ea459dbfe1d855fe8637bf653d7418988f0b3870bd36c4152b461f0"
  },
  "kernelspec": {
   "display_name": "Python 3.8.10 64-bit (system)",
   "name": "python3"
  },
  "language_info": {
   "codemirror_mode": {
    "name": "ipython",
    "version": 3
   },
   "file_extension": ".py",
   "mimetype": "text/x-python",
   "name": "python",
   "nbconvert_exporter": "python",
   "pygments_lexer": "ipython3",
   "version": "3.8.10"
  }
 },
 "nbformat": 4,
 "nbformat_minor": 2
}
