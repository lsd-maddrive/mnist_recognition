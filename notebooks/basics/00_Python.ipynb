{
 "cells": [
  {
   "cell_type": "markdown",
   "metadata": {
    "colab_type": "text",
    "id": "Qesf_YoJGLD4"
   },
   "source": [
    "# Знакомимся с основами Python"
   ]
  },
  {
   "cell_type": "markdown",
   "metadata": {},
   "source": [
    "# Содержание <a name=\"content\"></a>\n",
    "\n",
    "* [Jupyter и управление](#Jupyter_i_upravlenie)\n",
    "  * [Задание](#Zadanie)\n",
    "* [Немного рекомендаций](#Nemnogo_rekomendatsij)\n",
    "* [Типы данных](#Tipy_dannyh)\n",
    "  * [Int, Float, Boolean](#Int,_Float,_Boolean)\n",
    "  * [Complex](#Complex)\n",
    "  * [String](#String)\n",
    "  * [None](#None)\n",
    "  * [List](#List)\n",
    "    * [Задание](#Zadanie_1)\n",
    "  * [Tuple](#Tuple)\n",
    "    * [Задание](#Zadanie_1_1)\n",
    "  * [Dict](#Dict)\n",
    "    * [Задание](#Zadanie_1_1_1)\n",
    "  * [Set](#Set)\n",
    "    * [Задание](#Zadanie_1_1_1_1)\n",
    "  * [Заключение](#Zakljuchenie)\n"
   ]
  },
  {
   "cell_type": "markdown",
   "metadata": {
    "colab_type": "text",
    "id": "kbkDnoj2RgxY"
   },
   "source": [
    "# Jupyter и управление"
   ]
  },
  {
   "cell_type": "markdown",
   "metadata": {
    "colab_type": "text",
    "id": "d6k0za1RHcXo"
   },
   "source": [
    "В данной практике мы познакомимся с основами языка программирования Python при работе в среде Jupyter. Для начала пройдемся по основным аспектам работы в данной среде:\n",
    "- `Инструменты -> Сочетания клавиш (Ctrl+M H)` - просмотр и настройка основных сочетаний клавиш;\n",
    "- `Shift + Enter` - выполнить ячейку и перейти к следующей;\n",
    "- `Ctrl + Space` - вывести подсказки автодополнения (на основе функций модулей, ваших функций из выполненных ячеек и переменных из выполненных ячеек);\n",
    "\n",
    "Вся среда разработки разбита на **ячейки**, которые содержат код. Так как язык Python интерпретируемый, то все команды в ячейке передаются интерпретатору по очереди. Данное правило работает даже для случая, если ячейки выполняются не последовательно. "
   ]
  },
  {
   "cell_type": "markdown",
   "metadata": {
    "colab_type": "text",
    "id": "V9zCGtuoKksp"
   },
   "source": [
    "Начнем с простого Hello World. Выполните ячейку и вы увидите результат ее выполнения ниже."
   ]
  },
  {
   "cell_type": "code",
   "execution_count": null,
   "metadata": {
    "_cell_id": "kCbekANd0f0RpzKC",
    "colab": {
     "base_uri": "https://localhost:8080/",
     "height": 34
    },
    "colab_type": "code",
    "executionInfo": {
     "elapsed": 999,
     "status": "ok",
     "timestamp": 1598099628873,
     "user": {
      "displayName": "Алексей Девяткин",
      "photoUrl": "",
      "userId": "11945040185410340858"
     },
     "user_tz": -180
    },
    "id": "8Cv-XnvPGRvx",
    "outputId": "76dfc94a-0847-4ae7-b189-73b80cf71fe5"
   },
   "outputs": [],
   "source": [
    "print('Hello World!')"
   ]
  },
  {
   "cell_type": "markdown",
   "metadata": {
    "colab_type": "text",
    "id": "M4QnJ_3aK27F"
   },
   "source": [
    "Часто бывает нужно посмотреть краткую информацию о той или иной функции, среда jupyter также поддерживает краткую справку по функциям, но при этом полное описание с примерами чаще всего можно найти на официальном сайте фреймворка, к которому относится функция.\r\n",
    "\r\n",
    "Давайте выведем информацию о функции, которую используем. После выполнения следующей ячейки откроется окно справки, в котором можно прочитать базовую информацию и аргументы функции."
   ]
  },
  {
   "cell_type": "code",
   "execution_count": null,
   "metadata": {
    "_cell_id": "hfUEP88vXCa3ImWY",
    "colab": {},
    "colab_type": "code",
    "id": "7SPUO6tTK0XN"
   },
   "outputs": [],
   "source": [
    "print?"
   ]
  },
  {
   "cell_type": "markdown",
   "metadata": {
    "colab_type": "text",
    "id": "TkZxK-67Lihe"
   },
   "source": [
    "Отлично! Мы не только написали свой первый Hello World на Python, но и узнали краткую информацию о функции для вывода в стандартный вывод.\r\n",
    "\r\n",
    "> В Google Colab при наведении на функцию или переменную появляется также небольшая справка\r\n",
    "\r\n",
    "Самое время перейти к вопросам **управления пакетами**. В языке Python дополнительные модули (библиотеки) поставляются в виде модулей, которые можно установить из стандартного репозитория PyPI (https://pypi.org/). Для того, чтобы в среде jupyter установить пакет для интерпретатора используется волшебная команда с помощью знака \"!\", который предполагает выполнения команд вне синтаксиса языка Python на языке Shell (консольные команды)."
   ]
  },
  {
   "cell_type": "markdown",
   "metadata": {
    "colab_type": "text",
    "id": "joQrUBWgOrCr"
   },
   "source": [
    "Пора установить наш первый необходимый пакет математических операций numpy."
   ]
  },
  {
   "cell_type": "code",
   "execution_count": null,
   "metadata": {
    "_cell_id": "aS0rQdLrTqXIdx3P",
    "colab": {
     "base_uri": "https://localhost:8080/",
     "height": 34
    },
    "colab_type": "code",
    "executionInfo": {
     "elapsed": 5036,
     "status": "ok",
     "timestamp": 1598099632940,
     "user": {
      "displayName": "Алексей Девяткин",
      "photoUrl": "",
      "userId": "11945040185410340858"
     },
     "user_tz": -180
    },
    "id": "QgEFGLjsOw2I",
    "outputId": "816577d6-445f-4b1f-fbc7-ace3daecf63d"
   },
   "outputs": [],
   "source": [
    "!pip install numpy==1.21.1"
   ]
  },
  {
   "cell_type": "markdown",
   "metadata": {
    "colab_type": "text",
    "id": "TquNzvi1PLss"
   },
   "source": [
    "Команда установки пакета не представляет сложностей, но при этом **всегда** рекомендуется устанавливать конкретную версию пакетов, чтобы не попасть в ловушку версий, когда разработчики пакета изменили определенный функционал, а мы об этом не узнали и программа перестает работать.\n",
    "\n",
    "Чтобы понять, какие версии есть, можно зайти на сайт пакета в репозитории [PyPI](https://pypi.org/project/numpy/).\n",
    "\n",
    "<details>\n",
    "    <summary>Как работать с версиями? [Нажми на меня]</summary>\n",
    "\n",
    "В практике работы с Python в папке с проектом создается файл `requirements.txt`, в который прописывают имена пакета и версии требуемых для проекта пакетов:\n",
    "```\n",
    "numpy==1.19.0\n",
    "pandas==1.0.3\n",
    "```\n",
    "Так для начала работы с проектом легко установить требуемые пакеты командой `pip install -r requirements`.\n",
    "\n",
    "В результате такой файл является источником информации о том, какие пакеты используются в проекте.\n",
    "\n",
    "Если вы начинаете новый проект, то обязательно создайте такой файл и записывайте в него все пакеты и версии, которые используете!\n",
    "</details>"
   ]
  },
  {
   "cell_type": "markdown",
   "metadata": {
    "colab_type": "text",
    "id": "NdHfsit3PenE"
   },
   "source": [
    "После того, как мы установили пакет, давайте попробуем его подключить в нашу среду, чтобы затем использовать."
   ]
  },
  {
   "cell_type": "code",
   "execution_count": null,
   "metadata": {
    "_cell_id": "cnYClAPIM86TiXx5",
    "colab": {},
    "colab_type": "code",
    "id": "7fQou8iYLhrh"
   },
   "outputs": [],
   "source": [
    "import numpy as np"
   ]
  },
  {
   "cell_type": "markdown",
   "metadata": {
    "colab_type": "text",
    "id": "93f6dx9tPoZJ"
   },
   "source": [
    "В данной команде мы познакомились с двумя ключевыми словами Python: `import` и `as`. Первое слово подключает пакет к программе. Второе позволяет переименовать название модуля, чтобы использовать общепринятое сокращение и набирать меньше текста. Так, вместо команды `numpy.linspace()` достаточно написать `np.linspace()`, при этом смысл команды не потерялся. Кстати, что это за команда такая? "
   ]
  },
  {
   "cell_type": "markdown",
   "metadata": {
    "colab_type": "text",
    "id": "N1IG94HncXZl"
   },
   "source": [
    "## Задание <a name=\"task_1\"></a>\n",
    "\n",
    "Выведите справку по команде `numpy.linspace()` в ячейке ниже.\n",
    "\n",
    "> Не пугайтесь символа \"#\" - это стандартный способ задания однострочного комментария, они игнорируются интерпретатором."
   ]
  },
  {
   "cell_type": "code",
   "execution_count": null,
   "metadata": {
    "_cell_id": "PUqjcbeEplU2gK1O",
    "colab": {},
    "colab_type": "code",
    "id": "BNxEH5DWHYus"
   },
   "outputs": [],
   "source": [
    "# TODO - вот здесь можете убрать этот комментарий и выполнить задание!)"
   ]
  },
  {
   "cell_type": "markdown",
   "metadata": {
    "colab_type": "text",
    "id": "U-CnHXZSZIRN"
   },
   "source": [
    "# Немного рекомендаций"
   ]
  },
  {
   "cell_type": "markdown",
   "metadata": {
    "colab_type": "text",
    "id": "-HP9Nj4aZRen"
   },
   "source": [
    "Работа с ноутбуками отличается от разработки через Python скрипты. В этой секции мы обсудим некоторые базовые правила, которых следует придерживаться, чтобы не создавать сложностей при работе с таким форматом.\n",
    "\n",
    "* В ноутбуках можно выполнять ячейки в любом порядке, но это чаще всего приводит к ошибкам, которые трудно разобрать! Пишите код и организуйте выполнение в ячейках **последовательно**.\n",
    "* Если надо поменять код ячейки и перезапустить ее - убедитесь, что вы не забыли ни про какие переменные. Простая проверка - перезапустить ядро (Инструменты -> Перезапустить среду управления) и выполнить все ячейки до измененной.\n",
    "\n",
    "<details>\n",
    "    <summary>Зачем помнить о переменных? [Нажми на меня]</summary>\n",
    "\n",
    "Например, вы выполните ячейку с кодом `a = 3`, а потом ее же перепишите (удалите код ячейки и замените) на `b = a + 2`, то вы получите переменную `b` со значение 5, но вот только такой код не будет рабочим, так как при перезапуске ядра определения переменной не будет существовать. Вся идея в модели исполнения - язык Python интерпретируемый, так что когда вы ему передаете команду `a = 3`, то переменная создастся и останется в памяти пока работает ядро, но рассчитывать на такое - плохо! Надо об этом помнить, но применять это не стоит, лучше явно определять переменные и затем их использовать.\n",
    "</details>\n",
    "\n",
    "* Комментарии! Ноутбуки совмещают два прекрасных компонента - ячейки с кодом, который можно выполнить, и ячейки с текстом, которые поддерживают яык разметки Markdown. Первые дают возможность писать код, а вторые - делать красивые описания. Теперь не только однострочные комментарии в коде доступны, а еще и красивый текст, формулы и картинки!\n"
   ]
  },
  {
   "cell_type": "markdown",
   "metadata": {
    "colab_type": "text",
    "id": "HIxyI13kQrk5"
   },
   "source": [
    "Отлично, значит теперь, мы овладели способностью управлять пакетами, а значит все ранее разработанные модули и функции нам подвластны! Но ведь на то и нужны разработчики, чтобы разрабатывать новое или делать что-то лучше! Сегодня предлагаю заняться первым. Перейдем к основным конструкциям и синтаксису языка Python."
   ]
  },
  {
   "cell_type": "markdown",
   "metadata": {
    "colab_type": "text",
    "id": "i5EqcPFlResP"
   },
   "source": [
    "# Типы данных <a name=\"types\"></a>"
   ]
  },
  {
   "cell_type": "markdown",
   "metadata": {
    "colab_type": "text",
    "id": "kPN5r_z7RkfY"
   },
   "source": [
    "Какой код обойдется без переменных? Всегда должны быть корзинки, которые хранят состояния, чтобы затем можно было использовать. Бегло пройдемся по порядку. Более расширенную информацию вы найдете на оф.сайте: https://docs.python.org/3.7/library/stdtypes.html."
   ]
  },
  {
   "cell_type": "markdown",
   "metadata": {
    "colab_type": "text",
    "id": "iN0g0pfuW5Zg"
   },
   "source": [
    "## Int, Float, Boolean <a name=\"int_float_bool\"></a>"
   ]
  },
  {
   "cell_type": "code",
   "execution_count": null,
   "metadata": {
    "_cell_id": "aPCCfT0mqEi72FJY",
    "colab": {},
    "colab_type": "code",
    "id": "GD8uQZ8YQdJG"
   },
   "outputs": [],
   "source": [
    "var_int = 3\n",
    "var_float = 3.0\n",
    "var_boolean = True"
   ]
  },
  {
   "cell_type": "markdown",
   "metadata": {
    "colab_type": "text",
    "id": "GqpJV4r7Tdah"
   },
   "source": [
    "Целочисленные, с плавающей точкой и булевы значения, классика. Если вы знакомы с любым другим языком, например, С, С++, Java, то вы точно слышали про данные типы. "
   ]
  },
  {
   "cell_type": "markdown",
   "metadata": {
    "colab_type": "text",
    "id": "dn6bvtGoW_wK"
   },
   "source": [
    "## Complex <a name=\"complex\"></a>"
   ]
  },
  {
   "cell_type": "code",
   "execution_count": null,
   "metadata": {
    "_cell_id": "k8X6mJH9xxGcKzM8",
    "colab": {},
    "colab_type": "code",
    "id": "QKdBfJ_0TR7E"
   },
   "outputs": [],
   "source": [
    "var_complex = 3+2j"
   ]
  },
  {
   "cell_type": "markdown",
   "metadata": {
    "colab_type": "text",
    "id": "Ej_QVagDT6N-"
   },
   "source": [
    "Комплексные числа, уже интереснее. На них распространяются все математические правила, вы даже можете проверить это, создав новую ячейку и проведя интересующие операции."
   ]
  },
  {
   "cell_type": "markdown",
   "metadata": {
    "colab_type": "text",
    "id": "vBeoJ60hXCJj"
   },
   "source": [
    "## String <a name=\"str\"></a>"
   ]
  },
  {
   "cell_type": "code",
   "execution_count": null,
   "metadata": {
    "_cell_id": "WbacPrRJnhL3HRdT",
    "colab": {},
    "colab_type": "code",
    "id": "8y7n80P3TTBy"
   },
   "outputs": [],
   "source": [
    "var_string = 'hello text'\n",
    "var_another_string = \"me too!\"\n",
    "var_multiline_string = '''\n",
    "    big\n",
    "    multiline\n",
    "    string\n",
    "'''"
   ]
  },
  {
   "cell_type": "markdown",
   "metadata": {
    "colab_type": "text",
    "id": "1etXpMQmUHsB"
   },
   "source": [
    "Различные способы задания строковых значений, пользуйтесь на здоровье."
   ]
  },
  {
   "cell_type": "markdown",
   "metadata": {
    "colab_type": "text",
    "id": "bbHtfu30XD07"
   },
   "source": [
    "## None <a name=\"none\"></a>"
   ]
  },
  {
   "cell_type": "code",
   "execution_count": null,
   "metadata": {
    "_cell_id": "Kqp80LxLexWUbOAi",
    "colab": {},
    "colab_type": "code",
    "id": "8zcRvMULTVID"
   },
   "outputs": [],
   "source": [
    "var_none = None"
   ]
  },
  {
   "cell_type": "markdown",
   "metadata": {
    "colab_type": "text",
    "id": "Z-IOAabvUOTu"
   },
   "source": [
    "В языке Python также присутствует специальный тип None, он обособлен от остальных, но пользуется крайне высокой популярностью."
   ]
  },
  {
   "cell_type": "markdown",
   "metadata": {
    "colab_type": "text",
    "id": "YnKYFUFmUY7K"
   },
   "source": [
    "Теперь коснемся контейнерных типов."
   ]
  },
  {
   "cell_type": "markdown",
   "metadata": {
    "colab_type": "text",
    "id": "-jaCmvHQXFiN"
   },
   "source": [
    "## List <a name=\"list\"></a>"
   ]
  },
  {
   "cell_type": "code",
   "execution_count": null,
   "metadata": {
    "_cell_id": "tCV5UPFQcZlKY63f",
    "colab": {},
    "colab_type": "code",
    "id": "twreijv7TZKt"
   },
   "outputs": [],
   "source": [
    "var_list = [1, '111']"
   ]
  },
  {
   "cell_type": "markdown",
   "metadata": {
    "colab_type": "text",
    "id": "eIZv__ejVArI"
   },
   "source": [
    "Список, базовый контейнер для хранения набора данных. Не ограничен конкретным типом. Поддерживает динамическое расширение и удаление элементов. Как же обратиться к элементу списка?"
   ]
  },
  {
   "cell_type": "code",
   "execution_count": null,
   "metadata": {
    "_cell_id": "r5Pvh6RhemfEKfrd",
    "colab": {
     "base_uri": "https://localhost:8080/",
     "height": 34
    },
    "colab_type": "code",
    "executionInfo": {
     "elapsed": 4932,
     "status": "ok",
     "timestamp": 1598099632945,
     "user": {
      "displayName": "Алексей Девяткин",
      "photoUrl": "",
      "userId": "11945040185410340858"
     },
     "user_tz": -180
    },
    "id": "WRGZ8YJoVq9x",
    "outputId": "86848efa-91ca-440c-ed33-a76d05b741e5"
   },
   "outputs": [],
   "source": [
    "var_list[1]"
   ]
  },
  {
   "cell_type": "markdown",
   "metadata": {
    "colab_type": "text",
    "id": "rTXPAizHVvuo"
   },
   "source": [
    "Напомним, что **индексация начинается с 0**.\n",
    "\n",
    "Попробуем изменить элемент и вывести список."
   ]
  },
  {
   "cell_type": "code",
   "execution_count": null,
   "metadata": {
    "_cell_id": "5ZIailWiYfsKjcG9",
    "colab": {
     "base_uri": "https://localhost:8080/",
     "height": 34
    },
    "colab_type": "code",
    "executionInfo": {
     "elapsed": 4917,
     "status": "ok",
     "timestamp": 1598099632946,
     "user": {
      "displayName": "Алексей Девяткин",
      "photoUrl": "",
      "userId": "11945040185410340858"
     },
     "user_tz": -180
    },
    "id": "X10nto8sV6RO",
    "outputId": "1953b8fe-80c9-4d73-fda2-739cae9aec3a"
   },
   "outputs": [],
   "source": [
    "var_list[0] = 501\n",
    "var_list"
   ]
  },
  {
   "cell_type": "markdown",
   "metadata": {
    "colab_type": "text",
    "id": "3o2pxOb3V99r"
   },
   "source": [
    "> Обратите внимание, чтобы просмотреть значение переменной достаточно написать ее имя.\n",
    "\n",
    "Как же получить индекс элемента по значению?"
   ]
  },
  {
   "cell_type": "code",
   "execution_count": null,
   "metadata": {
    "_cell_id": "a1C3AciEDWFJGmd1",
    "colab": {
     "base_uri": "https://localhost:8080/",
     "height": 34
    },
    "colab_type": "code",
    "executionInfo": {
     "elapsed": 4900,
     "status": "ok",
     "timestamp": 1598099632946,
     "user": {
      "displayName": "Алексей Девяткин",
      "photoUrl": "",
      "userId": "11945040185410340858"
     },
     "user_tz": -180
    },
    "id": "DNpGWqoIWdcm",
    "outputId": "27e6cff4-5059-435b-a246-1fccccdceebc"
   },
   "outputs": [],
   "source": [
    "var_list.index('111')"
   ]
  },
  {
   "cell_type": "markdown",
   "metadata": {
    "colab_type": "text",
    "id": "KuOI-DBecMsX"
   },
   "source": [
    "### Задание <a name=\"task_2\"></a>\n",
    "\n",
    "Посмотрите, что будет, если записать по индексу [1] любое значение."
   ]
  },
  {
   "cell_type": "markdown",
   "metadata": {
    "colab_type": "text",
    "id": "eJs0Y-e0WgiZ"
   },
   "source": [
    "Как видно, функция `index()` вызывается от самого списка (то есть это функция списка) и выводит индекс элемента, если такое значение есть. Теперь проверьте, что же будет, если вызвать `index()` по значению, которого нет?"
   ]
  },
  {
   "cell_type": "code",
   "execution_count": null,
   "metadata": {
    "_cell_id": "zfId3bxg7cVuQ5ys",
    "colab": {},
    "colab_type": "code",
    "id": "9f_4onVKW1Yp"
   },
   "outputs": [],
   "source": [
    "# TODO"
   ]
  },
  {
   "cell_type": "markdown",
   "metadata": {
    "colab_type": "text",
    "id": "kUthmzbtXNuB"
   },
   "source": [
    "Отлично, вот конкретно это *значение* он возвращает, если элемента нет. Осталось узнать, как добавить элемент в список. Воспользуйтесь функцией `append()` списка, чтобы добавить элемент в список и выведите весь список."
   ]
  },
  {
   "cell_type": "code",
   "execution_count": null,
   "metadata": {
    "_cell_id": "dbVph6hJvPUnCrMp",
    "colab": {},
    "colab_type": "code",
    "id": "5e79CkE8XlLt"
   },
   "outputs": [],
   "source": [
    "# TODO"
   ]
  },
  {
   "cell_type": "markdown",
   "metadata": {
    "colab_type": "text",
    "id": "9mIXJAYqXHJt"
   },
   "source": [
    "## Tuple <a name=\"tuple\"></a>"
   ]
  },
  {
   "cell_type": "code",
   "execution_count": null,
   "metadata": {
    "_cell_id": "5lk1oeBzH9Sb22Pt",
    "colab": {},
    "colab_type": "code",
    "id": "4OYDtdkhTZyx"
   },
   "outputs": [],
   "source": [
    "var_tuple = (1, '111', 'hey')"
   ]
  },
  {
   "cell_type": "markdown",
   "metadata": {
    "colab_type": "text",
    "id": "psnLbBZzVUuW"
   },
   "source": [
    "Кортеж, вроде похож на список, но вот его главное отличие в том, что он неизменяет (Immutable).\n",
    "\n",
    "> Подробнее о mutable/immutable почитайте здесь: https://realpython.com/courses/immutability-python/\n"
   ]
  },
  {
   "cell_type": "markdown",
   "metadata": {
    "colab_type": "text",
    "id": "bdjlDJumcJ-d"
   },
   "source": [
    "### Задание <a name=\"task_3\"></a>\n",
    "\n",
    "Посмотрите, что будет, если записать по индексу [1] любое значение."
   ]
  },
  {
   "cell_type": "code",
   "execution_count": null,
   "metadata": {
    "_cell_id": "S4FCm6jx9G0SKqeJ",
    "colab": {},
    "colab_type": "code",
    "id": "V67Sbb_IYiNb"
   },
   "outputs": [],
   "source": [
    "# TODO"
   ]
  },
  {
   "cell_type": "markdown",
   "metadata": {
    "colab_type": "text",
    "id": "TCTkgqD8XIjW"
   },
   "source": [
    "## Dict <a name=\"dict\"></a>"
   ]
  },
  {
   "cell_type": "code",
   "execution_count": null,
   "metadata": {
    "_cell_id": "XmZ6yMWLFlMbNGrT",
    "colab": {},
    "colab_type": "code",
    "id": "x6nafJapTWd0"
   },
   "outputs": [],
   "source": [
    "var_dict = {\n",
    "    'string_key': 'string_value',\n",
    "    1: 'oh, integer key?'\n",
    "}"
   ]
  },
  {
   "cell_type": "markdown",
   "metadata": {
    "colab_type": "text",
    "id": "GN4nIr0XYmQ1"
   },
   "source": [
    "Словарь, очень интересный и полезный тип. Хранит данные по принципу ключ-значение. Ключ должен быть уникальным. Можно обращаться к конкретным элементам по ключу. Поддерживает запись новых элементов по несуществующему ключу."
   ]
  },
  {
   "cell_type": "code",
   "execution_count": null,
   "metadata": {
    "_cell_id": "49d3vws0hubcqvjN",
    "colab": {
     "base_uri": "https://localhost:8080/",
     "height": 34
    },
    "colab_type": "code",
    "executionInfo": {
     "elapsed": 5618,
     "status": "ok",
     "timestamp": 1598099633751,
     "user": {
      "displayName": "Алексей Девяткин",
      "photoUrl": "",
      "userId": "11945040185410340858"
     },
     "user_tz": -180
    },
    "id": "X4bEXPhgY-qu",
    "outputId": "9f197a2b-66fb-4742-ccdb-879413759a16"
   },
   "outputs": [],
   "source": [
    "var_dict['string_key']"
   ]
  },
  {
   "cell_type": "code",
   "execution_count": null,
   "metadata": {
    "_cell_id": "RmXHoyoANbna3Y3z",
    "colab": {
     "base_uri": "https://localhost:8080/",
     "height": 34
    },
    "colab_type": "code",
    "executionInfo": {
     "elapsed": 5603,
     "status": "ok",
     "timestamp": 1598099633752,
     "user": {
      "displayName": "Алексей Девяткин",
      "photoUrl": "",
      "userId": "11945040185410340858"
     },
     "user_tz": -180
    },
    "id": "nZsXIhX0ZKPE",
    "outputId": "442f2fdf-e5a3-4bdf-ed97-9de18a523d8d"
   },
   "outputs": [],
   "source": [
    "var_dict['new_key'] = 'new_value'\n",
    "var_dict"
   ]
  },
  {
   "cell_type": "markdown",
   "metadata": {
    "colab_type": "text",
    "id": "3IjO3edHZi2F"
   },
   "source": [
    "### Задание <a name=\"task_4\"></a>\n",
    "\n",
    "Попробуйте создать новый словарь `new_dict` с другими парами ключ-значение и воспользуйтесь функцией `var_dict.update(new_dict)` (мы передаем новый словарь как аргумент функции). Посмотрите, что поменялось в обоих словарях."
   ]
  },
  {
   "cell_type": "code",
   "execution_count": null,
   "metadata": {
    "_cell_id": "pMExbzF0DWQXdbwM",
    "colab": {},
    "colab_type": "code",
    "id": "vdsT1U4MZ8Pl"
   },
   "outputs": [],
   "source": [
    "# TODO"
   ]
  },
  {
   "cell_type": "markdown",
   "metadata": {
    "colab_type": "text",
    "id": "tXdPUt8TXJ1N"
   },
   "source": [
    "## Set <a name=\"set\"></a>"
   ]
  },
  {
   "cell_type": "code",
   "execution_count": null,
   "metadata": {
    "_cell_id": "ovSdsSgfg6QZcoVW",
    "colab": {},
    "colab_type": "code",
    "id": "NPtQmNtSTXOk"
   },
   "outputs": [],
   "source": [
    "var_set = {\n",
    "    'no, keys',\n",
    "    'only unique values!'\n",
    "}"
   ]
  },
  {
   "cell_type": "markdown",
   "metadata": {
    "colab_type": "text",
    "id": "sRtAVj9kZ_6r"
   },
   "source": [
    "Множество, очень похож по определению на словарь скобками, но он уникален тем, что хранит только уникальные значения."
   ]
  },
  {
   "cell_type": "markdown",
   "metadata": {
    "colab_type": "text",
    "id": "mWiGshiaaTc8"
   },
   "source": [
    "### Задание <a name=\"task_5\"></a>\n",
    "\n",
    "Создайте свое множество `new_set` и с помощью операторов \"|\" и \"&\" получите объединение и пересечение множеств. Выведите результаты."
   ]
  },
  {
   "cell_type": "code",
   "execution_count": null,
   "metadata": {
    "_cell_id": "uRe5c2eleFsiuXzu",
    "colab": {},
    "colab_type": "code",
    "id": "hfhRlEi5ajhE"
   },
   "outputs": [],
   "source": [
    "# TODO"
   ]
  },
  {
   "cell_type": "markdown",
   "metadata": {
    "colab_type": "text",
    "id": "OF2Gn5YAak_d"
   },
   "source": [
    "## Заключение <a name=\"conclusion\"></a>"
   ]
  },
  {
   "cell_type": "markdown",
   "metadata": {
    "colab_type": "text",
    "id": "qFyOIyUfapJW"
   },
   "source": [
    "Замечательно! Мы познакомились с основными типами данных, давайте подведем главный итог - для определения переменной достаточно написать название переменной и присвоить ей значение. Тип переменной конкретно не указывается, так как Python - **динамически типизируемый язык** и определяет тип в ходе работы. Именно эта особенность позволяет, например, спискам хранить разные типы данных. \n",
    "\n",
    "> Большая просьба к будущим разработчика, не называйте свои переменные (и функции) менее, чем в три символа. Ваш код - это рассказ того, что программа делает, поэтому переменные (и функции) - слова, которыми вы говорите. Называйте переменные в соответсвии с их назначением, ёмко и лаконично."
   ]
  }
 ],
 "metadata": {
  "colab": {
   "authorship_tag": "ABX9TyMU+sqBraszccX3TnJ39WiR",
   "collapsed_sections": [],
   "name": "Pr00_Python.ipynb",
   "provenance": [],
   "toc_visible": true
  },
  "interpreter": {
   "hash": "34aeae13491cdfc15016e4f5a712347d353aaad6276d1d4af2ec6dcffe2e983c"
  },
  "kernelspec": {
   "display_name": "Python 3.8.10 64-bit ('.venv': poetry)",
   "name": "python3"
  },
  "language_info": {
   "codemirror_mode": {
    "name": "ipython",
    "version": 3
   },
   "file_extension": ".py",
   "mimetype": "text/x-python",
   "name": "python",
   "nbconvert_exporter": "python",
   "pygments_lexer": "ipython3",
   "version": "3.8.10"
  }
 },
 "nbformat": 4,
 "nbformat_minor": 2
}
