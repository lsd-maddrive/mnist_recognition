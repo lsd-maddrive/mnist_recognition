{
 "cells": [
  {
   "cell_type": "markdown",
   "metadata": {},
   "source": [
    "# Альбументации"
   ]
  },
  {
   "cell_type": "code",
   "execution_count": null,
   "metadata": {},
   "outputs": [],
   "source": [
    "%load_ext autoreload\n",
    "%autoreload 2\n",
    "\n",
    "import os \n",
    "\n",
    "PROJECT_DPATH = os.path.abspath(os.path.join(os.curdir, os.pardir))\n",
    "DATA_DPATH = os.path.join(PROJECT_DPATH, \"data\")\n",
    "\n",
    "import torch\n",
    "import torchvision\n",
    "from torchvision.transforms import transforms\n",
    "import numpy as np\n",
    "from ipywidgets import interact, IntSlider\n",
    "import matplotlib.pyplot as plt\n",
    "import albumentations as albu\n",
    "import cv2\n",
    "\n",
    "from mnist_recognition.transforms import Invertor, Convertor, AlbuAugmentation"
   ]
  },
  {
   "cell_type": "markdown",
   "metadata": {},
   "source": [
    "## Загрузка тестовой выборки"
   ]
  },
  {
   "cell_type": "code",
   "execution_count": null,
   "metadata": {},
   "outputs": [],
   "source": [
    "# загружаем тестовую выборку\n",
    "test_data = torchvision.datasets.MNIST(\n",
    "   DATA_DPATH, train=False, transform=Invertor(), download=True\n",
    ")\n",
    "\n",
    "# Создаём лоядеры данных.\n",
    "# так как модель ожидает данные в определённой форме\n",
    "test_dataloader=torch.utils.data.DataLoader(\n",
    "    dataset=test_data, \n",
    "    batch_size=1,\n",
    "    shuffle=False\n",
    ")"
   ]
  },
  {
   "cell_type": "code",
   "execution_count": null,
   "metadata": {},
   "outputs": [],
   "source": [
    "images, labels = [], []\n",
    "for info in test_data:\n",
    "    img, label = info \n",
    "    images.append(np.array(img))\n",
    "    labels.append(label)"
   ]
  },
  {
   "cell_type": "markdown",
   "metadata": {},
   "source": [
    "Альбументация данных - это такой подход, который используется для расширения обучающей выборки за счёт небольших изменений исходных данных. Например, сдвига данных, отражения по вертикальной/горизонтальной оси, изменение насыщенности пикселей (в случае картинок). "
   ]
  },
  {
   "cell_type": "markdown",
   "metadata": {},
   "source": [
    "Рассмотрим виды альбументаций, которые будем применять к данным "
   ]
  },
  {
   "cell_type": "markdown",
   "metadata": {},
   "source": [
    "## Примеры альбументаций"
   ]
  },
  {
   "cell_type": "markdown",
   "metadata": {},
   "source": [
    "### 1) Альбументация - Смещение "
   ]
  },
  {
   "cell_type": "code",
   "execution_count": null,
   "metadata": {},
   "outputs": [],
   "source": [
    "transform_shift = albu.ShiftScaleRotate(\n",
    "    shift_limit=0.2,\n",
    "    scale_limit=0,\n",
    "    rotate_limit=0,\n",
    "    interpolation=3,\n",
    "    border_mode=cv2.BORDER_CONSTANT,\n",
    "    p=0.9,\n",
    "    value=255,  # white background for better representation\n",
    ")\n",
    "\n",
    "@interact\n",
    "def show(ind=IntSlider(val=0, min=0, max=len(images)-1)):\n",
    "    _, ax = plt.subplots(nrows=1, ncols=2, figsize=(8, 16))\n",
    "\n",
    "    img = images[ind]\n",
    "    transformed_img_shift = transform_shift(image=img)[\"image\"]\n",
    "\n",
    "    ax[0].imshow(img, cmap=\"gray\")\n",
    "    ax[0].set_title(\"Исходное изображение\")\n",
    "\n",
    "    ax[1].imshow(transformed_img_shift, cmap=\"gray\")\n",
    "    ax[1].set_title(\"Изменённое изображение\")\n",
    "\n",
    "    plt.show()"
   ]
  },
  {
   "cell_type": "markdown",
   "metadata": {},
   "source": [
    "### 2) Альбументация - Изменение масштаба "
   ]
  },
  {
   "cell_type": "code",
   "execution_count": null,
   "metadata": {},
   "outputs": [],
   "source": [
    "transform_scale = albu.ShiftScaleRotate(\n",
    "    shift_limit=0,\n",
    "    scale_limit=0.25,\n",
    "    rotate_limit=0,\n",
    "    interpolation=3,\n",
    "    border_mode=cv2.BORDER_CONSTANT,\n",
    "    p=0.9,\n",
    "    value=255,  # white background for better representation\n",
    ")\n",
    "\n",
    "@interact\n",
    "def show(ind=IntSlider(val=0, min=0, max=len(images)-1)):\n",
    "    _, ax = plt.subplots(nrows=1, ncols=2, figsize=(8, 16))\n",
    "\n",
    "    img = images[ind]\n",
    "    transformed_img_scale = transform_scale(image=img)[\"image\"]\n",
    "\n",
    "    ax[0].imshow(img, cmap=\"gray\")\n",
    "    ax[0].set_title(\"Исходное изображение\")\n",
    "\n",
    "    ax[1].imshow(transformed_img_scale, cmap=\"gray\")\n",
    "    ax[1].set_title(\"Изменённое изображение\")\n",
    "\n",
    "    plt.show()"
   ]
  },
  {
   "cell_type": "markdown",
   "metadata": {},
   "source": [
    "### 3) Поворот изображения на небольшой угол (возьмем границы угла поворота -20 до 20)"
   ]
  },
  {
   "cell_type": "code",
   "execution_count": null,
   "metadata": {},
   "outputs": [],
   "source": [
    "transform_rotate = albu.ShiftScaleRotate(\n",
    "    shift_limit=0,\n",
    "    scale_limit=0,\n",
    "    rotate_limit=20,\n",
    "    interpolation=3,\n",
    "    border_mode=cv2.BORDER_CONSTANT,\n",
    "    p=0.9,\n",
    "    value=255,  # white background for better representation\n",
    ")\n",
    "\n",
    "@interact\n",
    "def show(ind=IntSlider(val=0, min=0, max=len(images)-1)):\n",
    "    _, ax = plt.subplots(nrows=1, ncols=2, figsize=(8, 16))\n",
    "\n",
    "    img = images[ind]\n",
    "    transformed_img_rotate = transform_rotate(image=img)[\"image\"]\n",
    "\n",
    "    ax[0].imshow(img, cmap=\"gray\")\n",
    "    ax[0].set_title(\"Исходное изображение\")\n",
    "\n",
    "    ax[1].imshow(transformed_img_rotate, cmap=\"gray\")\n",
    "    ax[1].set_title(\"Изменённое изображение\")\n",
    "\n",
    "    plt.show()"
   ]
  },
  {
   "cell_type": "markdown",
   "metadata": {},
   "source": [
    "### 4) Применение 3х альбументаций одновременно: Поворот, изменение масштаба, смещение"
   ]
  },
  {
   "cell_type": "code",
   "execution_count": null,
   "metadata": {},
   "outputs": [],
   "source": [
    "transform_all = albu.ShiftScaleRotate(\n",
    "    shift_limit=0.15,\n",
    "    scale_limit=0.2,\n",
    "    rotate_limit=20,\n",
    "    interpolation=3,\n",
    "    border_mode=cv2.BORDER_CONSTANT,\n",
    "    p=0.9,\n",
    "    value=255,  # white background for better representation\n",
    ")\n",
    "\n",
    "@interact\n",
    "def show(ind=IntSlider(val=0, min=0, max=len(images)-1)):\n",
    "    _, ax = plt.subplots(nrows=1, ncols=2, figsize=(8, 16))\n",
    "\n",
    "    img = images[ind]\n",
    "    transformed_img_all = transform_all(image=img)[\"image\"]\n",
    "\n",
    "    ax[0].imshow(img, cmap=\"gray\")\n",
    "    ax[0].set_title(\"Исходное изображение\")\n",
    "\n",
    "    ax[1].imshow(transformed_img_all, cmap=\"gray\")\n",
    "    ax[1].set_title(\"Изменённое изображение\")\n",
    "\n",
    "    plt.show()"
   ]
  },
  {
   "cell_type": "markdown",
   "metadata": {},
   "source": [
    "### 5) Размытие изображения"
   ]
  },
  {
   "cell_type": "code",
   "execution_count": null,
   "metadata": {},
   "outputs": [],
   "source": [
    "transform_blur = albu.GaussianBlur(blur_limit=0.1, p=0.9)\n",
    "\n",
    "@interact\n",
    "def show(ind=IntSlider(val=0, min=0, max=len(images)-1)):\n",
    "    _, ax = plt.subplots(nrows=1, ncols=2, figsize=(8, 16))\n",
    "\n",
    "    img = images[ind]\n",
    "    transformed_img_blure = transform_blur(image=img)[\"image\"]\n",
    "\n",
    "    ax[0].imshow(img, cmap=\"gray\")\n",
    "    ax[0].set_title(\"Исходное изображение\")\n",
    "\n",
    "    ax[1].imshow(transformed_img_blure, cmap=\"gray\")\n",
    "    ax[1].set_title(\"Изменённое изображение\")\n",
    "\n",
    "    plt.show()"
   ]
  },
  {
   "cell_type": "markdown",
   "metadata": {},
   "source": [
    "### 6) Изменение яркости и контрастности "
   ]
  },
  {
   "cell_type": "code",
   "execution_count": null,
   "metadata": {},
   "outputs": [],
   "source": [
    "transform_bright =  albu.RandomBrightnessContrast (\n",
    "    brightness_limit=0.8, \n",
    "    contrast_limit=0.25, \n",
    "    brightness_by_max=True, \n",
    "    always_apply=False, \n",
    "    p=0.9\n",
    ")\n",
    "\n",
    "\n",
    "@interact\n",
    "def show(ind=IntSlider(val=0, min=0, max=len(images)-1)):\n",
    "    _, ax = plt.subplots(nrows=1, ncols=2, figsize=(8, 16))\n",
    "\n",
    "    img = images[ind]\n",
    "    transformed_img_bright = transform_bright(image=img)[\"image\"]\n",
    "\n",
    "    ax[0].imshow(img, cmap=\"gray\")\n",
    "    ax[0].set_title(\"Исходное изображение\")\n",
    "\n",
    "    ax[1].imshow(transformed_img_bright, cmap=\"gray\")\n",
    "    ax[1].set_title(\"Изменённое изображение\")\n",
    "\n",
    "    plt.show()"
   ]
  },
  {
   "cell_type": "markdown",
   "metadata": {},
   "source": [
    "## Проверка альбументаций на обучающей выборке"
   ]
  },
  {
   "cell_type": "code",
   "execution_count": null,
   "metadata": {},
   "outputs": [],
   "source": [
    "data_transform = transforms.Compose(\n",
    "    [Invertor(), Convertor(), AlbuAugmentation(), transforms.ToTensor()]\n",
    ")\n",
    "    # загружаем обучающую выборку\n",
    "train_data = torchvision.datasets.MNIST(\n",
    "    DATA_DPATH,\n",
    "    train=True,\n",
    "    transform=data_transform,\n",
    "    download=True,\n",
    ")\n"
   ]
  },
  {
   "cell_type": "markdown",
   "metadata": {},
   "source": [
    "Посмотрим, что альбументации применились в данным  "
   ]
  },
  {
   "cell_type": "code",
   "execution_count": null,
   "metadata": {},
   "outputs": [],
   "source": [
    "@interact\n",
    "def show_images(index=IntSlider(val=0, min=0, max=len(train_data)-1)):\n",
    "    img,_ = train_data[index]\n",
    "    img = np.array(img).reshape(28,28)\n",
    "\n",
    "    plt.figure(figsize=[4, 4])\n",
    "    plt.imshow(img, cmap=\"gray\")\n",
    "\n",
    "    plt.show()"
   ]
  },
  {
   "cell_type": "code",
   "execution_count": null,
   "metadata": {},
   "outputs": [],
   "source": []
  }
 ],
 "metadata": {
  "interpreter": {
   "hash": "9c2f5a87efeacbcdc5a13c8ed7753f5a831829b2302e02892a45494710f6e461"
  },
  "kernelspec": {
   "display_name": "Python 3.8.12 ('.venv': poetry)",
   "language": "python",
   "name": "python3"
  },
  "language_info": {
   "codemirror_mode": {
    "name": "ipython",
    "version": 3
   },
   "file_extension": ".py",
   "mimetype": "text/x-python",
   "name": "python",
   "nbconvert_exporter": "python",
   "pygments_lexer": "ipython3",
   "version": "3.8.12"
  }
 },
 "nbformat": 4,
 "nbformat_minor": 2
}
