{
 "cells": [
  {
   "cell_type": "markdown",
   "metadata": {},
   "source": [
    "# Первичный анализ данных"
   ]
  },
  {
   "cell_type": "code",
   "execution_count": null,
   "metadata": {},
   "outputs": [],
   "source": [
    "%load_ext autoreload\n",
    "%autoreload 2\n",
    "\n",
    "import os \n",
    "\n",
    "PROJECT_DPATH = os.path.abspath(os.path.join(os.curdir, os.pardir))\n",
    "DATA_DPATH = os.path.join(PROJECT_DPATH, \"data\")\n",
    "\n",
    "import pandas as pd\n",
    "import matplotlib.pyplot as plt\n",
    "import ipywidgets as widgets\n",
    "from ipywidgets import interact\n",
    "import numpy as np\n",
    "from tqdm import tqdm\n",
    "import torch\n",
    "import torchvision\n",
    "from torchvision import transforms\n",
    "import seaborn as sns\n",
    "\n",
    "from mnist_recognition.transforms import Invertor\n",
    "\n",
    "RANDOM_SEED = 42 \n",
    "torch.backends.cudnn.enabled = False\n",
    "torch.manual_seed(RANDOM_SEED)\n",
    "torch.cuda.seed()"
   ]
  },
  {
   "cell_type": "markdown",
   "metadata": {},
   "source": [
    "## Загрузка данных"
   ]
  },
  {
   "cell_type": "code",
   "execution_count": null,
   "metadata": {},
   "outputs": [],
   "source": [
    "transform = transforms.Compose([Invertor()])\n",
    "\n",
    "# загружаем обучающую выборку \n",
    "train_data = torchvision.datasets.MNIST(\n",
    "    DATA_DPATH, train=True, transform=transform, download=True\n",
    ")\n",
    "\n",
    "# разделяем обучающую выборку на обучающую и валидационную выборки\n",
    "# 70% для обучения, 30% для валидации\n",
    "train_size = int(len(train_data) * 0.7)\n",
    "valid_size = len(train_data) - train_size\n",
    "train_data, valid_data = torch.utils.data.random_split(train_data, [train_size, valid_size])"
   ]
  },
  {
   "cell_type": "code",
   "execution_count": null,
   "metadata": {},
   "outputs": [],
   "source": [
    "# загружаем тестовую выборку\n",
    "test_data = torchvision.datasets.MNIST(\n",
    "    DATA_DPATH, train=False, transform=transform, download=True\n",
    ")"
   ]
  },
  {
   "cell_type": "code",
   "execution_count": null,
   "metadata": {},
   "outputs": [],
   "source": [
    "# генерируем имена колонок для пикселей изображения\n",
    "img_col_names = [f\"{i}x{j}\" for i in range(1, 29) for j in range(1, 29)]"
   ]
  },
  {
   "cell_type": "code",
   "execution_count": null,
   "metadata": {},
   "outputs": [],
   "source": [
    "train_df = []\n",
    "stream = tqdm(train_data, desc=\"Train Data Processing\")\n",
    "for img, label in stream:\n",
    "    np_img = np.array(img)\n",
    "    train_df.append([label] + np_img.flatten().tolist())\n",
    "\n",
    "train_df = pd.DataFrame(train_df, columns=[\"label\"] + img_col_names)\n",
    "train_df.shape"
   ]
  },
  {
   "cell_type": "code",
   "execution_count": null,
   "metadata": {},
   "outputs": [],
   "source": [
    "valid_df = []\n",
    "stream = tqdm(valid_data, desc=\"Valid Data Processing\")\n",
    "for img, label in stream:\n",
    "    np_img = np.array(img)\n",
    "    valid_df.append([label] + np_img.flatten().tolist())\n",
    "\n",
    "valid_df = pd.DataFrame(valid_df, columns=[\"label\"] + img_col_names)\n",
    "valid_df.shape"
   ]
  },
  {
   "cell_type": "code",
   "execution_count": null,
   "metadata": {},
   "outputs": [],
   "source": [
    "test_df = []\n",
    "stream = tqdm(test_data, desc=\"Test Data Processing\")\n",
    "for img, label in stream:\n",
    "    np_img = np.array(img)\n",
    "    test_df.append([label] + np_img.flatten().tolist())\n",
    "\n",
    "test_df = pd.DataFrame(test_df, columns=[\"label\"] + img_col_names)\n",
    "test_df.shape"
   ]
  },
  {
   "cell_type": "markdown",
   "metadata": {},
   "source": [
    "## Анализ обучающей выборки"
   ]
  },
  {
   "cell_type": "code",
   "execution_count": null,
   "metadata": {},
   "outputs": [],
   "source": [
    "# Общая информация о данных: размер датасета, тип данных\n",
    "train_df.info()"
   ]
  },
  {
   "cell_type": "code",
   "execution_count": null,
   "metadata": {},
   "outputs": [],
   "source": [
    "# Посмотрим на то как представленны данные \n",
    "train_df.head()"
   ]
  },
  {
   "cell_type": "code",
   "execution_count": null,
   "metadata": {},
   "outputs": [],
   "source": [
    "#Кол-во уникальных значений в первом столбце \n",
    "sorted(train_df['label'].unique())"
   ]
  },
  {
   "cell_type": "markdown",
   "metadata": {},
   "source": [
    "Обучающая выборка содержит 42,000 строк, 785 колонок. \n",
    "\n",
    "* Первая колонка- лэйбл картинки, содержит значения от 0-9. \n",
    "\n",
    "* Колонки от 1-785 (1х1 - 28х28) сосдержат значения каждого пикселя изображения. \n",
    "\n",
    "Т.е в датасете представлено 42,000 примеров изображения для обучения "
   ]
  },
  {
   "cell_type": "markdown",
   "metadata": {},
   "source": [
    "Рассмотрим информацию о данных для каждой колонки отдельно для того, чтобы оценить есть ли пропуски в данных "
   ]
  },
  {
   "cell_type": "code",
   "execution_count": null,
   "metadata": {},
   "outputs": [],
   "source": [
    "train_df.isnull().sum().sum()"
   ]
  },
  {
   "cell_type": "markdown",
   "metadata": {},
   "source": [
    "Пропуски в данных отсутсвуют "
   ]
  },
  {
   "cell_type": "markdown",
   "metadata": {},
   "source": [
    "Рассмотрим соотношение значений в целевой колонке - колонке лэйблов изображений\n",
    "Представим информацию в числовом виде и в виде графика "
   ]
  },
  {
   "cell_type": "code",
   "execution_count": null,
   "metadata": {},
   "outputs": [],
   "source": [
    "plt.figure(figsize=(10, 5)) \n",
    "_fig = sns.histplot(train_df.label, bins=10)\n",
    "\n",
    "_fig.bar_label(_fig.containers[0])\n",
    "_fig.set_xticks(list(range(0, 10)))\n",
    "\n",
    "plt.ylabel(\"Количество изображений\")\n",
    "plt.xlabel(\"Истинные классы\")\n",
    "plt.title(\"Распределение целевых классов в обучающей выборке\")\n",
    "\n",
    "\n",
    "plt.tight_layout()\n",
    "plt.show()"
   ]
  },
  {
   "cell_type": "markdown",
   "metadata": {},
   "source": [
    "Дисбаланса в данных нет, датасет содержит примерно равное количество примеров изображений по каждой цифре"
   ]
  },
  {
   "cell_type": "markdown",
   "metadata": {},
   "source": [
    "Обозначим среднее значение пикселя в изображении для разных цифр как средняя интенсивность."
   ]
  },
  {
   "cell_type": "code",
   "execution_count": null,
   "metadata": {},
   "outputs": [],
   "source": [
    "# Создадим датасет в который перенесем колонку с лэйблами и сопоставим каждому значению среднее значение \n",
    "df_train_labels=pd.DataFrame(\n",
    "    {\n",
    "        \"labels\": train_df['label'],\n",
    "        # make backgroud = 0\n",
    "        \"intensity\": abs(train_df.iloc[:,1:] - 255).mean(axis=1)\n",
    "    }\n",
    ")"
   ]
  },
  {
   "cell_type": "code",
   "execution_count": null,
   "metadata": {},
   "outputs": [],
   "source": [
    "plt.figure(figsize=(10, 5))\n",
    "_fig = sns.barplot(x=df_train_labels[\"labels\"], y=df_train_labels[\"intensity\"])\n",
    "_fig.bar_label(_fig.containers[0])\n",
    "\n",
    "plt.title(\"Распределение средней интенсивности пикселей\")\n",
    "plt.xlabel(\"Истинные классы\")\n",
    "plt.ylabel(\"Средняя интенсивность\")\n",
    "\n",
    "plt.tight_layout()\n",
    "plt.show()"
   ]
  },
  {
   "cell_type": "markdown",
   "metadata": {},
   "source": [
    "Из данного графика видно, что самая низкая интенсивность наблюдается у цифры 1 (что связано с особенностями ее написания), самой высокой интенсивностью обладают цифры 0 и 8. "
   ]
  },
  {
   "cell_type": "markdown",
   "metadata": {},
   "source": [
    "Графики распределения средней интенсивности по лэйблу"
   ]
  },
  {
   "cell_type": "code",
   "execution_count": null,
   "metadata": {},
   "outputs": [],
   "source": [
    "fig, ax = plt.subplots(nrows=2, ncols=5, figsize=(20, 10))\n",
    "\n",
    "counter = 0\n",
    "for row_i in range(2):\n",
    "    for col_i in range(5):\n",
    "        sns.histplot(\n",
    "            ax=ax[row_i][col_i], \n",
    "            data=df_train_labels['intensity'][df_train_labels['labels']==counter]\n",
    "        )        \n",
    "        ax[row_i][col_i].set_xlabel(\"Интенсивность\")\n",
    "        ax[row_i][col_i].set_ylabel(\"Количество пикселей\")\n",
    "        ax[row_i][col_i].set_title(f\"Класс {counter}\")\n",
    "        counter += 1 \n",
    "\n",
    "plt.tight_layout()\n",
    "plt.show()"
   ]
  },
  {
   "cell_type": "markdown",
   "metadata": {},
   "source": [
    "Полученные распределения близки к нормальному распределению, но некоторые графики имеют более высокую дисперсию, чем другие, так как написание цифр у разных людей отличается. \n",
    "\n",
    "Так, например, у 1 наименьший разброс, в связи с чем можно предположить, что написание 1 имеет меньше всего различий."
   ]
  },
  {
   "cell_type": "markdown",
   "metadata": {},
   "source": [
    "Посмотрим на выборочные изображения рукописных цифр "
   ]
  },
  {
   "cell_type": "code",
   "execution_count": null,
   "metadata": {},
   "outputs": [],
   "source": [
    "@interact\n",
    "def show_digits(label=widgets.IntSlider(value=0, min=0, max=9)):\n",
    "    _fig, ax = plt.subplots(nrows=2, ncols=5, figsize=[25, 10])\n",
    "    for row_i in range(2):\n",
    "        for col_i in range(5):\n",
    "            j = np.random.choice(train_df[train_df['label'] == label].index)\n",
    "            digit = np.array(train_df.loc[j, train_df.columns != \"label\"]).reshape(28, 28)\n",
    "            \n",
    "            ax[row_i][col_i].imshow(digit, cmap=\"gray\")\n",
    "    plt.tight_layout()\n",
    "    plt.show()"
   ]
  },
  {
   "cell_type": "markdown",
   "metadata": {},
   "source": [
    "## Анализ валидационной выборки"
   ]
  },
  {
   "cell_type": "code",
   "execution_count": null,
   "metadata": {},
   "outputs": [],
   "source": [
    "# Общая информация о данных: размер датасета, тип данных\n",
    "valid_df.info()"
   ]
  },
  {
   "cell_type": "code",
   "execution_count": null,
   "metadata": {},
   "outputs": [],
   "source": [
    "valid_df.head()"
   ]
  },
  {
   "cell_type": "code",
   "execution_count": null,
   "metadata": {},
   "outputs": [],
   "source": [
    "#Кол-во уникальных значений в первом столбце \n",
    "sorted(valid_df['label'].unique())"
   ]
  },
  {
   "cell_type": "code",
   "execution_count": null,
   "metadata": {},
   "outputs": [],
   "source": [
    "valid_df.isnull().sum().sum()"
   ]
  },
  {
   "cell_type": "markdown",
   "metadata": {},
   "source": [
    "Данные выборки для валидации имеют такое же представление как и выборка для обучения: \n",
    "\n",
    "* первая колонка - это лэйбл (класс) картинки, она содержит значения от 0-9, \n",
    "* колонки от 1-785 (1х1 - 28х28) сосдержат значения каждого пиксля изображения.\n",
    "\n",
    "Валидационная выбрка содержит 18,000 изображений.\n",
    "\n",
    "Пропуски в данных отсутвуют "
   ]
  },
  {
   "cell_type": "code",
   "execution_count": null,
   "metadata": {},
   "outputs": [],
   "source": [
    "plt.figure(figsize=(10, 5)) \n",
    "_fig = sns.histplot(valid_df.label, bins=10)\n",
    "\n",
    "_fig.bar_label(_fig.containers[0])\n",
    "_fig.set_xticks(list(range(0, 10)))\n",
    "\n",
    "plt.ylabel(\"Количество изображений\")\n",
    "plt.xlabel(\"Истинные классы\")\n",
    "plt.title(\"Распределение целевых классов в валидационной выборке\")\n",
    "\n",
    "\n",
    "plt.tight_layout()\n",
    "plt.show()"
   ]
  },
  {
   "cell_type": "markdown",
   "metadata": {},
   "source": [
    "Выборка содержит примерно равное количество изображений для каждого лэйбла"
   ]
  },
  {
   "cell_type": "code",
   "execution_count": null,
   "metadata": {},
   "outputs": [],
   "source": [
    "# Создадим датасет в который перенесем колонку с лэйблами и сопоставим каждому значению среднее значение \n",
    "df_valid_labels = pd.DataFrame(\n",
    "    {\n",
    "        'labels':valid_df['label'],\n",
    "        # make backgroud = 0\n",
    "        \"intensity\": abs(valid_df.iloc[:,1:] - 255).mean(axis=1)\n",
    "    }\n",
    ")"
   ]
  },
  {
   "cell_type": "code",
   "execution_count": null,
   "metadata": {},
   "outputs": [],
   "source": [
    "plt.figure(figsize=(10, 5))\n",
    "_fig = sns.barplot(x=df_valid_labels[\"labels\"], y=df_valid_labels[\"intensity\"])\n",
    "_fig.bar_label(_fig.containers[0])\n",
    "\n",
    "plt.title(\"Распределение средней интенсивности пикселей\")\n",
    "plt.xlabel(\"Истинные классы\")\n",
    "plt.ylabel(\"Средняя интенсивность\")\n",
    "\n",
    "plt.tight_layout()\n",
    "plt.show()"
   ]
  },
  {
   "cell_type": "markdown",
   "metadata": {},
   "source": [
    "Цифры 0 и 8 имеют наибольшие значения средней интенсивности изображений, а цифры 1 и 4 имеют самые низкие показатели интенсивности"
   ]
  },
  {
   "cell_type": "code",
   "execution_count": null,
   "metadata": {},
   "outputs": [],
   "source": [
    "fig, ax = plt.subplots(nrows=2, ncols=5, figsize=(20, 10))\n",
    "\n",
    "counter = 0\n",
    "for row_i in range(2):\n",
    "    for col_i in range(5):\n",
    "        sns.histplot(\n",
    "            ax=ax[row_i][col_i], \n",
    "            data=df_valid_labels['intensity'][df_valid_labels['labels']==counter]\n",
    "        )        \n",
    "        ax[row_i][col_i].set_xlabel(\"Интенсивность\")\n",
    "        ax[row_i][col_i].set_ylabel(\"Количество пикселей\")\n",
    "        ax[row_i][col_i].set_title(f\"Класс {counter}\")\n",
    "        counter += 1 \n",
    "\n",
    "plt.tight_layout()\n",
    "plt.show()"
   ]
  },
  {
   "cell_type": "markdown",
   "metadata": {},
   "source": [
    "Дисперсия распределения интенсивности зависит от того насколько различается написание цифр"
   ]
  },
  {
   "cell_type": "markdown",
   "metadata": {},
   "source": [
    "Примеры изображений из валидационной выборки"
   ]
  },
  {
   "cell_type": "code",
   "execution_count": null,
   "metadata": {},
   "outputs": [],
   "source": [
    "@interact\n",
    "def show_digits(label=widgets.IntSlider(value=0, min=0, max=9)):\n",
    "    _fig, ax = plt.subplots(nrows=2, ncols=5, figsize=[25, 10])\n",
    "    for row_i in range(2):\n",
    "        for col_i in range(5):\n",
    "            j = np.random.choice(valid_df[valid_df['label'] == label].index)\n",
    "            digit = np.array(valid_df.loc[j, valid_df.columns != \"label\"]).reshape(28, 28)\n",
    "            \n",
    "            ax[row_i][col_i].imshow(digit, cmap=\"gray\")\n",
    "    plt.tight_layout()\n",
    "    plt.show()"
   ]
  },
  {
   "cell_type": "markdown",
   "metadata": {},
   "source": [
    "## Анализ тестовой выборки"
   ]
  },
  {
   "cell_type": "code",
   "execution_count": null,
   "metadata": {},
   "outputs": [],
   "source": [
    "# Общая информация о данных: размер датасета, тип данных\n",
    "test_df.info()"
   ]
  },
  {
   "cell_type": "code",
   "execution_count": null,
   "metadata": {},
   "outputs": [],
   "source": [
    "test_df.head(3)"
   ]
  },
  {
   "cell_type": "code",
   "execution_count": null,
   "metadata": {},
   "outputs": [],
   "source": [
    "#Кол-во уникальных значений в первом столбце \n",
    "sorted(test_df['label'].unique())"
   ]
  },
  {
   "cell_type": "code",
   "execution_count": null,
   "metadata": {},
   "outputs": [],
   "source": [
    "# Кол-во пропусков в данных\n",
    "test_df.isnull().sum().sum()"
   ]
  },
  {
   "cell_type": "markdown",
   "metadata": {},
   "source": [
    "Тестовая выбрка содержит 10,000 изображений.\n",
    "Пропуски в данных отсутсвуют"
   ]
  },
  {
   "cell_type": "code",
   "execution_count": null,
   "metadata": {},
   "outputs": [],
   "source": [
    "plt.figure(figsize=(10, 5)) \n",
    "_fig = sns.histplot(test_df.label, bins=10)\n",
    "\n",
    "_fig.bar_label(_fig.containers[0])\n",
    "_fig.set_xticks(list(range(0, 10)))\n",
    "\n",
    "plt.ylabel(\"Количество изображений\")\n",
    "plt.xlabel(\"Истинные классы\")\n",
    "plt.title(\"Распределение целевых классов в тестовой выборке\")\n",
    "\n",
    "\n",
    "plt.tight_layout()\n",
    "plt.show()"
   ]
  },
  {
   "cell_type": "code",
   "execution_count": null,
   "metadata": {},
   "outputs": [],
   "source": [
    "# Создадим датасет в который перенесем колонку с лэйблами и сопоставим каждому значению среднее значение \n",
    "df_test_labels = pd.DataFrame(\n",
    "    {\n",
    "        'labels':test_df['label'],\n",
    "        # make backgroud = 0\n",
    "        \"intensity\": abs(test_df.iloc[:,1:] - 255).mean(axis=1)\n",
    "    }\n",
    ")"
   ]
  },
  {
   "cell_type": "code",
   "execution_count": null,
   "metadata": {},
   "outputs": [],
   "source": [
    "plt.figure(figsize=(10, 5))\n",
    "_fig = sns.barplot(x=df_test_labels[\"labels\"], y=df_test_labels[\"intensity\"])\n",
    "_fig.bar_label(_fig.containers[0])\n",
    "\n",
    "plt.title(\"Распределение средней интенсивности пикселей\")\n",
    "plt.xlabel(\"Истинные классы\")\n",
    "plt.ylabel(\"Средняя интенсивность\")\n",
    "\n",
    "plt.tight_layout()\n",
    "plt.show()"
   ]
  },
  {
   "cell_type": "markdown",
   "metadata": {},
   "source": [
    "В тестовой выборке средняя интенсивность изображений:\n",
    "* цифры 2 стала выше чем в обучающей и валидационной выборке,\n",
    "* средняя интенсивность цифры 7 меньше, чем в обущающей и валидационной выборках\n",
    "* наибольша интенсивность у цифр 0,2,8;\n",
    "* наименьшая интенсивность у цифр 1,7"
   ]
  },
  {
   "cell_type": "code",
   "execution_count": null,
   "metadata": {},
   "outputs": [],
   "source": [
    "fig, ax = plt.subplots(nrows=2, ncols=5, figsize=(20, 10))\n",
    "\n",
    "counter = 0\n",
    "for row_i in range(2):\n",
    "    for col_i in range(5):\n",
    "        sns.histplot(\n",
    "            ax=ax[row_i][col_i], \n",
    "            data=df_test_labels['intensity'][df_test_labels['labels']==counter]\n",
    "        )        \n",
    "        ax[row_i][col_i].set_xlabel(\"Интенсивность\")\n",
    "        ax[row_i][col_i].set_ylabel(\"Количество пикселей\")\n",
    "        ax[row_i][col_i].set_title(f\"Класс {counter}\")\n",
    "        counter += 1 \n",
    "\n",
    "plt.tight_layout()\n",
    "plt.show()"
   ]
  },
  {
   "cell_type": "markdown",
   "metadata": {},
   "source": [
    "Распределения средней интенсивности цифр 2, 3, 4 имеют несколько вершин, что может говорить о том, что для данных цифр имеется несколько различных вариантов их написания."
   ]
  },
  {
   "cell_type": "markdown",
   "metadata": {},
   "source": [
    "Примеры изображений цифр из тестовой выборки"
   ]
  },
  {
   "cell_type": "code",
   "execution_count": null,
   "metadata": {},
   "outputs": [],
   "source": [
    "@interact\n",
    "def show_digits(label=widgets.IntSlider(value=0, min=0, max=9)):\n",
    "    _fig, ax = plt.subplots(nrows=2, ncols=5, figsize=[25, 10])\n",
    "    for row_i in range(2):\n",
    "        for col_i in range(5):\n",
    "            j = np.random.choice(test_df[test_df['label'] == label].index)\n",
    "            digit = np.array(test_df.loc[j, test_df.columns != \"label\"]).reshape(28, 28)\n",
    "            \n",
    "            ax[row_i][col_i].imshow(digit, cmap=\"gray\")\n",
    "    plt.tight_layout()\n",
    "    plt.show()"
   ]
  },
  {
   "cell_type": "markdown",
   "metadata": {},
   "source": [
    "## Сравнительные распределения"
   ]
  },
  {
   "cell_type": "code",
   "execution_count": null,
   "metadata": {},
   "outputs": [],
   "source": [
    "_fig, ax = plt.subplots(nrows=1, ncols=3, figsize=(20, 5))\n",
    "\n",
    "_fig = sns.histplot(train_df.label, bins=10, ax=ax[0])\n",
    "_fig.bar_label(_fig.containers[0])\n",
    "_fig.set_xticks(list(range(0, 10)))\n",
    "\n",
    "_fig.set_ylabel(\"Количество изображений\")\n",
    "_fig.set_xlabel(\"Истинные классы\")\n",
    "_fig.set_title(\"Распределение целевых классов в обучающей выборке\")\n",
    "\n",
    "_fig = sns.histplot(valid_df.label, bins=10, ax=ax[1])\n",
    "_fig.bar_label(_fig.containers[0])\n",
    "_fig.set_xticks(list(range(0, 10)))\n",
    "\n",
    "_fig.set_ylabel(\"Количество изображений\")\n",
    "_fig.set_xlabel(\"Истинные классы\")\n",
    "_fig.set_title(\"Распределение целевых классов в валидационной выборке\")\n",
    "\n",
    "\n",
    "_fig = sns.histplot(test_df.label, bins=10, ax=ax[2])\n",
    "_fig.bar_label(_fig.containers[0])\n",
    "_fig.set_xticks(list(range(0, 10)))\n",
    "\n",
    "_fig.set_ylabel(\"Количество изображений\")\n",
    "_fig.set_xlabel(\"Истинные классы\")\n",
    "_fig.set_title(\"Распределение целевых классов в тестовой выборке\")\n",
    "\n",
    "\n",
    "plt.tight_layout()\n",
    "plt.show()"
   ]
  },
  {
   "cell_type": "code",
   "execution_count": null,
   "metadata": {},
   "outputs": [],
   "source": [
    "_fig, ax = plt.subplots(nrows=1, ncols=3, figsize=(20, 5))\n",
    "\n",
    "_fig = sns.barplot(x=df_train_labels[\"labels\"], y=df_train_labels[\"intensity\"], ax=ax[0])\n",
    "_fig.bar_label(_fig.containers[0])\n",
    "\n",
    "_fig.set_title(\"Распределение средней интенсивности пикселей\\nОбучающая выборка\")\n",
    "_fig.set_xlabel(\"Истинные классы\")\n",
    "_fig.set_ylabel(\"Средняя интенсивность\")\n",
    "\n",
    "_fig = sns.barplot(x=df_valid_labels[\"labels\"], y=df_valid_labels[\"intensity\"], ax=ax[1])\n",
    "_fig.bar_label(_fig.containers[0])\n",
    "\n",
    "_fig.set_title(\"Распределение средней интенсивности пикселей\\nВалидационная выборка\")\n",
    "_fig.set_xlabel(\"Истинные классы\")\n",
    "_fig.set_ylabel(\"Средняя интенсивность\")\n",
    "\n",
    "_fig = sns.barplot(x=df_test_labels[\"labels\"], y=df_test_labels[\"intensity\"], ax=ax[2])\n",
    "_fig.bar_label(_fig.containers[0])\n",
    "\n",
    "_fig.set_title(\"Распределение средней интенсивности пикселей\\nТестовая выборка\")\n",
    "_fig.set_xlabel(\"Истинные классы\")\n",
    "_fig.set_ylabel(\"Средняя интенсивность\")\n",
    "\n",
    "plt.tight_layout()\n",
    "plt.show()"
   ]
  },
  {
   "cell_type": "code",
   "execution_count": null,
   "metadata": {},
   "outputs": [],
   "source": []
  }
 ],
 "metadata": {
  "interpreter": {
   "hash": "9c2f5a87efeacbcdc5a13c8ed7753f5a831829b2302e02892a45494710f6e461"
  },
  "kernelspec": {
   "display_name": "Python 3.8.12 ('.venv': poetry)",
   "language": "python",
   "name": "python3"
  },
  "language_info": {
   "codemirror_mode": {
    "name": "ipython",
    "version": 3
   },
   "file_extension": ".py",
   "mimetype": "text/x-python",
   "name": "python",
   "nbconvert_exporter": "python",
   "pygments_lexer": "ipython3",
   "version": "3.8.12"
  }
 },
 "nbformat": 4,
 "nbformat_minor": 2
}
