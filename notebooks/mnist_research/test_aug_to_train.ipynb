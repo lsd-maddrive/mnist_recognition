{
 "cells": [
  {
   "cell_type": "code",
   "execution_count": null,
   "metadata": {},
   "outputs": [],
   "source": [
    "import os\n",
    "import sys\n",
    "\n",
    "PROJECT_ROOT=os.path.join(os.path.dirname(os.path.abspath(os.pardir)))\n",
    "sys.path.append(PROJECT_ROOT)\n",
    "\n",
    "import numpy as np\n",
    "import torchvision\n",
    "from torchvision.transforms import transforms\n",
    "from ipywidgets import interact, IntSlider\n",
    "import matplotlib.pyplot as plt\n",
    "\n",
    "from object_detection.convertor import Convertor\n",
    "from object_detection.mnist_augmentation import AlbuAugmentation\n",
    "from object_detection.transform import Invertor\n"
   ]
  },
  {
   "cell_type": "code",
   "execution_count": null,
   "metadata": {},
   "outputs": [],
   "source": [
    "data_transform = transforms.Compose(\n",
    "    [Invertor(), Convertor(), AlbuAugmentation(), transforms.ToTensor()]\n",
    ")\n",
    "    # загружаем обучающую выборку\n",
    "train_data = torchvision.datasets.MNIST(\n",
    "    \"mnist_content\",\n",
    "    train=True,\n",
    "    transform=data_transform,\n",
    "    download=True,\n",
    ")\n"
   ]
  },
  {
   "cell_type": "markdown",
   "metadata": {},
   "source": [
    "Посмотрим, что альбументации применились в данным  "
   ]
  },
  {
   "cell_type": "code",
   "execution_count": null,
   "metadata": {},
   "outputs": [],
   "source": [
    "@interact\n",
    "def show_images(index=IntSlider(val=0, min=0, max=len(train_data)-1)):\n",
    "    img,_ = train_data[index]\n",
    "    img = np.array(img).reshape(28,28)\n",
    "\n",
    "    plt.figure(figsize=[4, 4])\n",
    "    plt.imshow(img, cmap=\"gray\")\n",
    "\n",
    "    plt.show()"
   ]
  }
 ],
 "metadata": {
  "interpreter": {
   "hash": "4937b06cff5836cad3cc2bad23f7830e7027c53db134810aa8389b0d707d2198"
  },
  "kernelspec": {
   "display_name": "Python 3.8.10 ('.venv': poetry)",
   "language": "python",
   "name": "python3"
  },
  "language_info": {
   "codemirror_mode": {
    "name": "ipython",
    "version": 3
   },
   "file_extension": ".py",
   "mimetype": "text/x-python",
   "name": "python",
   "nbconvert_exporter": "python",
   "pygments_lexer": "ipython3",
   "version": "3.8.10"
  }
 },
 "nbformat": 4,
 "nbformat_minor": 2
}
