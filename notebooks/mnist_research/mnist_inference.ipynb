{
 "cells": [
  {
   "cell_type": "code",
   "execution_count": null,
   "metadata": {},
   "outputs": [],
   "source": [
    "%load_ext autoreload\n",
    "%autoreload 2"
   ]
  },
  {
   "cell_type": "code",
   "execution_count": null,
   "metadata": {},
   "outputs": [],
   "source": [
    "import sys\n",
    "import os"
   ]
  },
  {
   "cell_type": "code",
   "execution_count": null,
   "metadata": {},
   "outputs": [],
   "source": [
    "PROJECT_ROOT=os.path.join(os.path.dirname(os.path.abspath(os.pardir)))\n",
    "sys.path.append(PROJECT_ROOT)\n"
   ]
  },
  {
   "cell_type": "code",
   "execution_count": null,
   "metadata": {},
   "outputs": [],
   "source": [
    "import torch\n",
    "import torchvision\n",
    "\n",
    "from ipywidgets import interact, IntSlider\n",
    "import matplotlib.pyplot as plt\n",
    "import numpy as np\n",
    "from tqdm import tqdm\n",
    "\n",
    "from object_detection import mnist_inference"
   ]
  },
  {
   "cell_type": "code",
   "execution_count": null,
   "metadata": {},
   "outputs": [],
   "source": [
    "CONFIG = {\"batch_size\": 200}\n",
    "DEVICE = torch.device(\"cuda\" if torch.cuda.is_available() else \"cpu\")"
   ]
  },
  {
   "cell_type": "code",
   "execution_count": null,
   "metadata": {},
   "outputs": [],
   "source": [
    "checkpoint_dpath = os.path.join(PROJECT_ROOT, \"checkpoints\", \"mnist_checkpoints\")\n",
    "model_fpath = os.path.join(checkpoint_dpath, \"best.pth\")\n",
    "\n",
    "infer = mnist_inference.Inference.from_file(model_fpath, device= DEVICE)"
   ]
  },
  {
   "cell_type": "code",
   "execution_count": null,
   "metadata": {},
   "outputs": [],
   "source": [
    "# загружаем тестовую выборку\n",
    "test_data = torchvision.datasets.MNIST(\n",
    "   os.path.join(PROJECT_ROOT, \"mnist_content\"), train=False, transform=None, download=True\n",
    ")\n",
    "\n",
    "# Создаём лоядеры данных.\n",
    "# так как модель ожидает данные в определённой форме\n",
    "test_dataloader=torch.utils.data.DataLoader(\n",
    "    dataset=test_data, \n",
    "    batch_size=CONFIG[\"batch_size\"],\n",
    "    shuffle=False\n",
    ")"
   ]
  },
  {
   "cell_type": "code",
   "execution_count": null,
   "metadata": {},
   "outputs": [],
   "source": [
    "@interact\n",
    "def show_predictions(index=IntSlider(val=0, min=0, max=len(test_data)-1)):\n",
    "    test_img, true_label = test_data[index]\n",
    "    test_img = np.array(test_img)\n",
    "\n",
    "    pred_label = infer.get_prediction(test_img)\n",
    "\n",
    "    plt.figure(figsize=[5, 5])\n",
    "    plt.imshow(test_img, cmap=\"gray\")\n",
    "    print(f\"True Label: {true_label}\")\n",
    "    print(f\"Predicted Label: {pred_label}\")\n",
    "    plt.show()"
   ]
  }
 ],
 "metadata": {
  "interpreter": {
   "hash": "db9c0075ce870e745171f00aa87044bf37da9f90e513a47e61b6909c9933ab83"
  },
  "kernelspec": {
   "display_name": "Python 3.8.10 64-bit",
   "language": "python",
   "name": "python3"
  },
  "language_info": {
   "codemirror_mode": {
    "name": "ipython",
    "version": 3
   },
   "file_extension": ".py",
   "mimetype": "text/x-python",
   "name": "python",
   "nbconvert_exporter": "python",
   "pygments_lexer": "ipython3",
   "version": "3.8.10"
  }
 },
 "nbformat": 4,
 "nbformat_minor": 2
}
