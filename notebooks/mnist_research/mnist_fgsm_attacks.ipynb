{
 "cells": [
  {
   "cell_type": "code",
   "execution_count": null,
   "metadata": {},
   "outputs": [],
   "source": [
    "%load_ext autoreload\n",
    "%autoreload 2\n",
    "import sys\n",
    "import os\n",
    "\n",
    "PROJECT_ROOT=os.path.join(os.path.dirname(os.path.abspath(os.pardir)))\n",
    "sys.path.append(PROJECT_ROOT)\n",
    "\n",
    "import torch\n",
    "import torchvision\n",
    "from torchvision.transforms import transforms \n",
    "import torch.nn.functional as F\n",
    "from tqdm import tqdm\n",
    "import numpy as np\n",
    "from PIL import Image\n",
    "from datetime import date\n",
    "\n",
    "\n",
    "from object_detection.mnist_model import MNIST\n",
    "from object_detection import mnist_inference\n",
    "from object_detection import mnist_evaluation\n",
    "from object_detection.fgsm_attack import fgsm_attack\n",
    "from object_detection.transform import Invertor\n"
   ]
  },
  {
   "cell_type": "code",
   "execution_count": null,
   "metadata": {},
   "outputs": [],
   "source": [
    "DEVICE = torch.device(\"cuda\" if torch.cuda.is_available() else \"cpu\")\n",
    "CONFIG = {\"batch_size\": 200}"
   ]
  },
  {
   "cell_type": "code",
   "execution_count": null,
   "metadata": {},
   "outputs": [],
   "source": [
    "transform = transforms.Compose([Invertor(),transforms.Compose([transforms.ToTensor()])])\n",
    "# загружаем тестовую выборку\n",
    "test_data = torchvision.datasets.MNIST(\n",
    "    \"mnist_content\", train=False, transform=transform, download=True\n",
    ")\n",
    "\n",
    "test_dataloader=torch.utils.data.DataLoader(\n",
    "    dataset=test_data, \n",
    "    batch_size=1,\n",
    "    shuffle=False\n",
    ")"
   ]
  },
  {
   "cell_type": "code",
   "execution_count": null,
   "metadata": {},
   "outputs": [],
   "source": [
    "# Загружаем обученную модель\n",
    "model = MNIST()\n",
    "model = model.to(DEVICE)\n",
    "\n",
    "MODEL_FPATH = os.path.join(PROJECT_ROOT, \"checkpoints\", \"mnist_checkpoints\", \"best.pth\")\n",
    "model.load_state_dict(torch.load(MODEL_FPATH)[\"model_state\"])\n",
    "\n",
    "# Инициализируем инференс \n",
    "infer = mnist_inference.Inference(model, device= DEVICE)\n",
    "\n",
    "# установим модель в режим оценки. В данном случае это относится к слоям отсева\n",
    "model.eval()\n"
   ]
  },
  {
   "cell_type": "code",
   "execution_count": null,
   "metadata": {},
   "outputs": [],
   "source": [
    "def data_fgsm_attack(model, device, test_loader, epsilon ):\n",
    "    output_data=[]\n",
    "    # Loop over all examples in test set\n",
    "    for data, target in tqdm(test_loader):\n",
    "        # Send the data and label to the device\n",
    "        data, target = data.to(device), target.to(device)\n",
    "        \n",
    "        # Set requires_grad attribute of tensor. Important for Attack\n",
    "        data.requires_grad = True\n",
    "\n",
    "        # Forward pass the data through the model\n",
    "        output = model(data.reshape(-1, 28 * 28))\n",
    "        init_pred = output.max(1, keepdim=True)[1]# get the index of the max log-probability\n",
    "        \n",
    "        # If the initial prediction is wrong, dont bother attacking, just move on\n",
    "        if init_pred.item() != target.item():\n",
    "            continue\n",
    "\n",
    "        # Calculate the loss\n",
    "        loss = F.nll_loss(output, target)\n",
    "\n",
    "        # Zero all existing gradients\n",
    "        model.zero_grad()\n",
    "\n",
    "        # Calculate gradients of model in backward pass\n",
    "        loss.backward()\n",
    "\n",
    "        # Collect datagrad\n",
    "        data_grad = data.grad.data\n",
    "        \n",
    "        # Call FGSM Attack\n",
    "        perturbed_data = fgsm_attack(data.reshape(-1, 28 * 28), epsilon, data_grad.reshape(-1, 28 * 28))\n",
    "\n",
    "        # Transform tensor to type PIL.Image.Image \n",
    "        perturbed_data = np.reshape(perturbed_data.detach().numpy(),(28,28))\n",
    "        perturbed_data = Image.fromarray(perturbed_data)\n",
    "\n",
    "    \n",
    "        output_data.append([perturbed_data,target.item()])\n",
    "\n",
    "    return output_data\n"
   ]
  },
  {
   "cell_type": "code",
   "execution_count": null,
   "metadata": {},
   "outputs": [],
   "source": [
    "_SAVE= True\n",
    "epsilon=[0.05, 0.1]\n",
    "for eps in epsilon:\n",
    "    # Getting data with fgsm attack\n",
    "    print('\\n Creating perturbed data ')\n",
    "    perturbed_data=data_fgsm_attack(model,DEVICE,test_dataloader,eps)\n",
    "    \n",
    "    mnist_evaluator= mnist_evaluation.MnistEvaluator(infer,perturbed_data)\n",
    "    # Getting predictions \n",
    "    print('Getting predictions')\n",
    "    predictions = mnist_evaluator.evaluate()\n",
    "    # Getting metrics\n",
    "    metrics =mnist_evaluator.classification_report()\n",
    "    \n",
    "    print(f'Classification report with fgsm attack eps={eps}')\n",
    "    print(metrics)\n",
    "    \n",
    "    if _SAVE:\n",
    "        predictions.to_csv(os.path.join(PROJECT_ROOT,'results','mnist_fgsm_attacks',f'pred_eps_{eps}_{date.today()}.csv'),index_label='id')\n",
    "        metrics.to_csv(os.path.join(PROJECT_ROOT,'results','mnist_fgsm_attacks',f'classification_report_eps_{eps}_{date.today()}.csv'),index_label='label')\n",
    "\n"
   ]
  }
 ],
 "metadata": {
  "interpreter": {
   "hash": "8c46554910a80b06a06093a7e24ed5cd3ebcff8f451b709403ea0840222e27f8"
  },
  "kernelspec": {
   "display_name": "Python 3.8.10 ('.venv': poetry)",
   "language": "python",
   "name": "python3"
  },
  "language_info": {
   "name": "python",
   "version": "3.8.10"
  }
 },
 "nbformat": 4,
 "nbformat_minor": 2
}
