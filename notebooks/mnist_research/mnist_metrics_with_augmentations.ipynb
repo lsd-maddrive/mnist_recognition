{
 "cells": [
  {
   "cell_type": "code",
   "execution_count": null,
   "metadata": {},
   "outputs": [],
   "source": [
    "%load_ext autoreload\n",
    "%autoreload 2\n",
    "import sys\n",
    "import os\n",
    "\n",
    "PROJECT_ROOT=os.path.join(os.path.dirname(os.path.abspath(os.pardir)))\n",
    "sys.path.append(PROJECT_ROOT)"
   ]
  },
  {
   "cell_type": "code",
   "execution_count": null,
   "metadata": {},
   "outputs": [],
   "source": [
    "import torch\n",
    "import torchvision\n",
    "import numpy as np\n",
    "\n",
    "\n",
    "from PIL import Image\n",
    "from datetime import date\n",
    "\n",
    "from object_detection.transform import Invertor\n",
    "from object_detection import mnist_augmentation\n",
    "from object_detection import mnist_inference\n",
    "from object_detection import mnist_evaluation\n"
   ]
  },
  {
   "cell_type": "code",
   "execution_count": null,
   "metadata": {},
   "outputs": [],
   "source": [
    "CONFIG = {\"batch_size\":200}\n",
    "DEVICE = torch.device(\"cuda\" if torch.cuda.is_available() else \"cpu\")"
   ]
  },
  {
   "cell_type": "code",
   "execution_count": null,
   "metadata": {},
   "outputs": [],
   "source": [
    "SAVE_DPATH = os.path.join(PROJECT_ROOT,'results','mnist_augmentations')\n",
    "os.makedirs(SAVE_DPATH, exist_ok=True)"
   ]
  },
  {
   "cell_type": "code",
   "execution_count": null,
   "metadata": {},
   "outputs": [],
   "source": [
    "# загружаем тестовую выборку\n",
    "test_data = torchvision.datasets.MNIST(\n",
    "   os.path.join(PROJECT_ROOT, \"mnist_content\"), train=False, transform=Invertor(), download=True\n",
    ")\n",
    "\n",
    "# Создаём лоядеры данных.\n",
    "# так как модель ожидает данные в определённой форме\n",
    "test_dataloader=torch.utils.data.DataLoader(\n",
    "    dataset=test_data, \n",
    "    batch_size=CONFIG[\"batch_size\"],\n",
    "    shuffle=False\n",
    ")"
   ]
  },
  {
   "cell_type": "markdown",
   "metadata": {},
   "source": [
    "Добавляем в тестовые данные альбументации "
   ]
  },
  {
   "cell_type": "code",
   "execution_count": null,
   "metadata": {},
   "outputs": [],
   "source": [
    "transforms = mnist_augmentation.AlbuAugmentation()\n",
    "\n",
    "test_data_with_augmentation = []\n",
    "for data in test_data:\n",
    "    img, label = data\n",
    "    img = np.array(img)\n",
    "    # adding albumentations\n",
    "    transformed_img = transforms(img)\n",
    "\n",
    "    # Transform array to type PIL.Image.Image \n",
    "    transformed_img = Image.fromarray(transformed_img)\n",
    "\n",
    "    # Collect data examples\n",
    "    test_data_with_augmentation.append([transformed_img,label])"
   ]
  },
  {
   "cell_type": "code",
   "execution_count": null,
   "metadata": {},
   "outputs": [],
   "source": [
    "checkpoint_dpath = os.path.join(PROJECT_ROOT, \"checkpoints\", \"mnist_checkpoints\")\n",
    "model_fpath = os.path.join(checkpoint_dpath, \"best.pth\")\n",
    "\n",
    "infer = mnist_inference.Inference.from_file(model_fpath, device= DEVICE)"
   ]
  },
  {
   "cell_type": "code",
   "execution_count": null,
   "metadata": {},
   "outputs": [],
   "source": [
    "mnist_evaluator= mnist_evaluation.MnistEvaluator(infer,test_data_with_augmentation)"
   ]
  },
  {
   "cell_type": "markdown",
   "metadata": {},
   "source": [
    "Получим предсказания для тестовых данных с альбументациями"
   ]
  },
  {
   "cell_type": "code",
   "execution_count": null,
   "metadata": {},
   "outputs": [],
   "source": [
    "_SAVE_PRED= True\n",
    "\n",
    "predictions = mnist_evaluator.evaluate()\n",
    "\n",
    "if _SAVE_PRED:\n",
    "    predictions.to_csv(os.path.join(SAVE_DPATH,f'pred_with_aug_{date.today()}.csv'),index_label='id')\n"
   ]
  },
  {
   "cell_type": "markdown",
   "metadata": {},
   "source": [
    "Получим метрики для данных с альбументациями"
   ]
  },
  {
   "cell_type": "code",
   "execution_count": null,
   "metadata": {},
   "outputs": [],
   "source": [
    "_SAVE_METRICS=True\n",
    "\n",
    "metrics =mnist_evaluator.classification_report()\n",
    "\n",
    "print(f'Classification report with augmentations')\n",
    "print(metrics)\n",
    "\n",
    "if _SAVE_METRICS:\n",
    "    metrics.to_csv(os.path.join(SAVE_DPATH,f'classification_report_with_aug_{date.today()}.csv'),index_label='label')\n",
    "\n"
   ]
  }
 ],
 "metadata": {
  "interpreter": {
   "hash": "8c46554910a80b06a06093a7e24ed5cd3ebcff8f451b709403ea0840222e27f8"
  },
  "kernelspec": {
   "display_name": "Python 3.8.10 ('.venv': poetry)",
   "language": "python",
   "name": "python3"
  },
  "language_info": {
   "codemirror_mode": {
    "name": "ipython",
    "version": 3
   },
   "file_extension": ".py",
   "mimetype": "text/x-python",
   "name": "python",
   "nbconvert_exporter": "python",
   "pygments_lexer": "ipython3",
   "version": "3.8.10"
  }
 },
 "nbformat": 4,
 "nbformat_minor": 2
}
