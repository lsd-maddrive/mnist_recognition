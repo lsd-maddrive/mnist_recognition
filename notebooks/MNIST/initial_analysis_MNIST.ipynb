{
 "cells": [
  {
   "cell_type": "markdown",
   "metadata": {},
   "source": [
    "# Первичный анализ данных"
   ]
  },
  {
   "cell_type": "code",
   "execution_count": null,
   "metadata": {},
   "outputs": [],
   "source": [
    "import pandas as pd\n",
    "import matplotlib.pyplot as plt\n",
    "import ipywidgets as widgets\n",
    "from ipywidgets import interact\n",
    "import numpy as np"
   ]
  },
  {
   "cell_type": "code",
   "execution_count": null,
   "metadata": {},
   "outputs": [],
   "source": [
    "import cv2\n",
    "from tqdm import tqdm\n",
    "import torch\n",
    "import torchvision\n",
    "random_seed = 42\n",
    "torch.backends.cudnn.enabled = False\n",
    "torch.manual_seed(random_seed)"
   ]
  },
  {
   "cell_type": "markdown",
   "metadata": {},
   "source": [
    "## Загрузка данных"
   ]
  },
  {
   "cell_type": "code",
   "execution_count": null,
   "metadata": {},
   "outputs": [],
   "source": [
    "# загружаем обучающую выборку \n",
    "train_data = torchvision.datasets.MNIST(\n",
    "    \"mnist_content\", train=True, transform=None, download=True\n",
    ")\n",
    "\n",
    "# разделяем обучающую выборку на обучающую и валидационную выборки\n",
    "# 70% для обучения, 30% для валидации\n",
    "train_size = int(len(train_data) * 0.7)\n",
    "valid_size = len(train_data) - train_size\n",
    "train_data, valid_data = torch.utils.data.random_split(train_data, [train_size, valid_size])"
   ]
  },
  {
   "cell_type": "code",
   "execution_count": null,
   "metadata": {},
   "outputs": [],
   "source": [
    "# загружаем тестовую выборку\n",
    "test_data = torchvision.datasets.MNIST(\n",
    "    \"mnist_content\", train=False, transform=None, download=True\n",
    ")"
   ]
  },
  {
   "cell_type": "code",
   "execution_count": null,
   "metadata": {},
   "outputs": [],
   "source": [
    "# генерируем имена колонок для пикселей изображения\n",
    "img_col_names = [f\"{i}x{j}\" for i in range(1, 29) for j in range(1, 29)]"
   ]
  },
  {
   "cell_type": "code",
   "execution_count": null,
   "metadata": {},
   "outputs": [],
   "source": [
    "train_df = []\n",
    "stream = tqdm(train_data, desc=\"Train Data Processing\")\n",
    "for img, label in stream:\n",
    "    np_img = np.array(img)\n",
    "    train_df.append([label] + np_img.flatten().tolist())\n",
    "\n",
    "train_df = pd.DataFrame(train_df, columns=[\"label\"] + img_col_names)\n",
    "train_df.shape"
   ]
  },
  {
   "cell_type": "code",
   "execution_count": null,
   "metadata": {},
   "outputs": [],
   "source": [
    "valid_df = []\n",
    "stream = tqdm(valid_data, desc=\"Valid Data Processing\")\n",
    "for img, label in stream:\n",
    "    np_img = np.array(img)\n",
    "    valid_df.append([label] + np_img.flatten().tolist())\n",
    "\n",
    "valid_df = pd.DataFrame(valid_df, columns=[\"label\"] + img_col_names)\n",
    "valid_df.shape"
   ]
  },
  {
   "cell_type": "code",
   "execution_count": null,
   "metadata": {},
   "outputs": [],
   "source": [
    "test_df = []\n",
    "stream = tqdm(test_data, desc=\"Test Data Processing\")\n",
    "for img, label in stream:\n",
    "    np_img = np.array(img)\n",
    "    test_df.append([label] + np_img.flatten().tolist())\n",
    "\n",
    "test_df = pd.DataFrame(test_df, columns=[\"label\"] + img_col_names)\n",
    "test_df.shape"
   ]
  },
  {
   "cell_type": "markdown",
   "metadata": {},
   "source": [
    "## Обучающая выборка"
   ]
  },
  {
   "cell_type": "code",
   "execution_count": null,
   "metadata": {},
   "outputs": [],
   "source": [
    "# Общая информация о данных: размер датасета, тип данных\n",
    "train_df.info()\n",
    "# Посмотрим на то как представленны данные \n",
    "train_df.head()"
   ]
  },
  {
   "cell_type": "code",
   "execution_count": null,
   "metadata": {},
   "outputs": [],
   "source": [
    "#Кол-во уникальных значений в первом столбце \n",
    "sorted(train_df['label'].unique())"
   ]
  },
  {
   "cell_type": "markdown",
   "metadata": {},
   "source": [
    "Обучаающая выборка содержит 42,000 строк, 785 колонок. Первая колонка- лэйбл картинки, содержит значения от 0-9. Колонки от 1-785 (1х1 - 28х28) сосдержат значения каждого пиксля изображения. Т.е в датасете представлено 42,000 примеров изображения для обучения "
   ]
  },
  {
   "cell_type": "markdown",
   "metadata": {},
   "source": [
    "Рассмотрим информацию о данных для каждой колонки отдельно для того чтобы оценить есть ли пропуски в данных "
   ]
  },
  {
   "cell_type": "code",
   "execution_count": null,
   "metadata": {},
   "outputs": [],
   "source": [
    "train_df.isnull().sum()"
   ]
  },
  {
   "cell_type": "markdown",
   "metadata": {},
   "source": [
    "Пропуски в данных отсутсвуют "
   ]
  },
  {
   "cell_type": "markdown",
   "metadata": {},
   "source": [
    "Рассмотрим соотношение значений в целевой колонке - колонке лэйблов изображений\n",
    "Представим информацию в числовом виде и в виде графика "
   ]
  },
  {
   "cell_type": "code",
   "execution_count": null,
   "metadata": {},
   "outputs": [],
   "source": [
    "# TODO: добавить подписи к осям \n",
    "# TODO: добавить название графика \n",
    "# TODO: сделать картинку побольше\n",
    "# TODO: добавить сверху каждого бина число = кол-во лейблов данного класса \n",
    "    # это можно сделать через _fig.bar_label(_fig.containers[0])\n",
    " \n",
    "plt.figure(figsize=(8,8))    \n",
    "plt_1 = plt.bar(sorted(train_df['label'].unique()) ,train_df['label'].value_counts() )\n",
    "plt.xticks(sorted(train_df['label'].unique()))\n",
    "plt.title('Hist for Lable column\\n Trainig data')\n",
    "plt.xlabel('Labels')\n",
    "plt.ylabel('Volume')\n",
    "plt.bar_label(plt_1,plt_1.datavalues)\n",
    "\n",
    "plt.show()"
   ]
  },
  {
   "cell_type": "markdown",
   "metadata": {},
   "source": [
    "Дисбаланса в данных нет, датасет содержит примерно равное количество примеров изображений по каждой цифре"
   ]
  },
  {
   "cell_type": "code",
   "execution_count": null,
   "metadata": {},
   "outputs": [],
   "source": [
    "# Мне кажется, что это не очень понятный график\n",
    "# может быть просто посмотреть среднее значение, медиану, моду, без графиков, а фисто значения?\n",
    "@interact \n",
    "def choose_pixel(i=widgets.IntSlider(value=1, min=1, max=784)): \n",
    "    plt.hist(data=train_df, x=train_df.columns.tolist()[i],bins=25,align='mid')"
   ]
  },
  {
   "cell_type": "markdown",
   "metadata": {},
   "source": [
    "Рассмотрим средние значения, значения медиан и мод для колонок 1-785"
   ]
  },
  {
   "cell_type": "code",
   "execution_count": null,
   "metadata": {},
   "outputs": [],
   "source": [
    "# Среднее, медиана, мода для каждой колонки\n",
    "df_train_mean=train_df.iloc[:,1:].mean()\n",
    "df_train_median=train_df.iloc[:,1:].median()\n",
    "df_train_mode=train_df.iloc[:,1:].mode()\n",
    "print(f'Mean: {df_train_mean.head()}\\n Median:{df_train_median.head()}\\n Mode:{df_train_mode.iloc[:,:5]}')\n",
    "print(f'Max values\\n max mean:{df_train_mean.max()}\\n max median {df_train_median.max()}\\n max mode {df_train_mode.max().head()}')\n"
   ]
  },
  {
   "cell_type": "markdown",
   "metadata": {},
   "source": [
    "Максимальное среднее значение - это 139,3\n",
    "Значение медиан по колонкам варируется от 0 до 171\n",
    "В колонках 1-785 преобладает значение 0"
   ]
  },
  {
   "cell_type": "markdown",
   "metadata": {},
   "source": [
    "Обозначим среднее значение пикселя в изображении для разных цифр как средняя интенсивность."
   ]
  },
  {
   "cell_type": "code",
   "execution_count": null,
   "metadata": {},
   "outputs": [],
   "source": [
    "# Создадим датасет в который перенесем колонку с лэйблами и сопоставим каждому значению среднее значение \n",
    "df_train_labels=pd.DataFrame({'labels':train_df['label'],'intensity':train_df.iloc[:,1:].mean(axis=1)})\n",
    "\n",
    "# TODO: добавить подписи к осям \n",
    "# TODO: добавить название графика \n",
    "# TODO: сделать картинку побольше\n",
    "\n",
    "plt.figure(figsize=(8,8))\n",
    "plt_2 =plt.bar(df_train_labels['labels'],df_train_labels['intensity'])\n",
    "plt.xticks(sorted(df_train_labels['labels'].unique()))\n",
    "plt.title('Average intensity for different digits\\n Train data')\n",
    "plt.xlabel('Digit label')\n",
    "plt.ylabel('Average intensity')\n",
    "plt.show()"
   ]
  },
  {
   "cell_type": "markdown",
   "metadata": {},
   "source": [
    "Из данного графика видно, что самая низкая интенсивность наблюдается у цифры 1 (что связано с особенностями ее написания), самой высокой интенсивностью обладают цифры 0 и 8. "
   ]
  },
  {
   "cell_type": "markdown",
   "metadata": {},
   "source": [
    "Графики распределения средней интенсивности по лэйблу"
   ]
  },
  {
   "cell_type": "code",
   "execution_count": null,
   "metadata": {},
   "outputs": [],
   "source": [
    "# TODO: добавить подписи к осям \n",
    "# TODO: сделать картинку побольше\n",
    "\n",
    "for i in range(10):\n",
    "    plt.figure(figsize=(8,8))\n",
    "    plt.hist(df_train_labels['intensity'][df_train_labels['labels']==i],bins=85,range=(0,100))\n",
    "    plt.title(f'Intensity Histohram for {i}\\n Train data')\n",
    "    plt.xlabel('Average intensity')\n",
    "    plt.ylabel('Count')\n",
    "    plt.show()"
   ]
  },
  {
   "cell_type": "markdown",
   "metadata": {},
   "source": [
    "Полученные распределения близки к нормальному распределению, но некоторые графики имеют более высокую дисперсию, чем другие, так как написание цифр у разных людей отличается. Так например у 1 наименьший разброс, в связи с чем можно предположить, что написание 1 имеет меньше всего различий."
   ]
  },
  {
   "cell_type": "markdown",
   "metadata": {},
   "source": [
    "Посмотрим на выборочные изображения рукописных цифр "
   ]
  },
  {
   "cell_type": "code",
   "execution_count": null,
   "metadata": {},
   "outputs": [],
   "source": [
    "@ interact\n",
    "\n",
    "def show_digits(num=widgets.IntSlider(value=0, min=0, max=9)):\n",
    "    arr_of_pics=[]\n",
    "    fig, ax = plt.subplots(nrows=1, ncols=5, figsize=[15, 10])\n",
    "    for i in range (5):\n",
    "        j=np.random.choice(train_df[train_df['label']==num].index)\n",
    "        digit=np.array(train_df.loc[j])\n",
    "        arr_of_pics.append(np.resize(digit,(28,28)))\n",
    "\n",
    "    ax[0].imshow(arr_of_pics[0],cmap='gray')\n",
    "    ax[1].imshow(arr_of_pics[1],cmap='gray')\n",
    "    ax[2].imshow(arr_of_pics[2],cmap='gray')\n",
    "    ax[3].imshow(arr_of_pics[3],cmap='gray')\n",
    "    ax[4].imshow(arr_of_pics[4],cmap='gray')\n",
    "    \n",
    "\n",
    "    plt.show()"
   ]
  },
  {
   "cell_type": "markdown",
   "metadata": {},
   "source": [
    "## Валидационная выборка"
   ]
  },
  {
   "cell_type": "code",
   "execution_count": null,
   "metadata": {},
   "outputs": [],
   "source": [
    "# Общая информация о данных: размер датасета, тип данных\n",
    "valid_df.info()\n",
    "# Посмотрим на то как представленны данные \n",
    "valid_df.head()"
   ]
  },
  {
   "cell_type": "code",
   "execution_count": null,
   "metadata": {},
   "outputs": [],
   "source": [
    "#Кол-во уникальных значений в первом столбце \n",
    "sorted(valid_df['label'].unique())"
   ]
  },
  {
   "cell_type": "code",
   "execution_count": null,
   "metadata": {},
   "outputs": [],
   "source": [
    "valid_df.isnull().sum()"
   ]
  },
  {
   "cell_type": "markdown",
   "metadata": {},
   "source": [
    "Данные выборки для валидации имеют такое же представление как и выборка для обучения: первая колонка - это лэйбл картинки, она содержит значения от 0-9, колонки от 1-785 (1х1 - 28х28) сосдержат значения каждого пиксля изображения.\n",
    "Валидационная выбрка содержит 18,000 изображений.\n",
    "\n",
    "Пропуски в данных отсутвуют "
   ]
  },
  {
   "cell_type": "code",
   "execution_count": null,
   "metadata": {},
   "outputs": [],
   "source": [
    "# Оценим количество изображений для каждого лэйбла\n",
    "plt.figure(figsize=(8,8))    \n",
    "plt3 = plt.bar(sorted(valid_df['label'].unique()) ,valid_df['label'].value_counts())\n",
    "plt.xticks(sorted(valid_df['label'].unique()))\n",
    "plt.title('Hist for Lable column\\n Valid data')\n",
    "plt.xlabel('Labels')\n",
    "plt.ylabel('Count')\n",
    "plt.bar_label(plt3,valid_df['label'].value_counts())\n",
    "\n",
    "plt.show()"
   ]
  },
  {
   "cell_type": "markdown",
   "metadata": {},
   "source": [
    "Выборка содержит примерно равное количество изображений для каждого лэйбла"
   ]
  },
  {
   "cell_type": "markdown",
   "metadata": {},
   "source": [
    "Для колонок 1-785 получим среднее значение, медиану и моду"
   ]
  },
  {
   "cell_type": "code",
   "execution_count": null,
   "metadata": {},
   "outputs": [],
   "source": [
    "# Среднее значение, медиана, мода по колонкам \n",
    "\n",
    "df_valid_mean=valid_df.iloc[:,1:].mean()\n",
    "df_valid_median=valid_df.iloc[:,1:].median()\n",
    "df_valid_mode=valid_df.iloc[:,1:].mode()\n",
    "print(f'Mean: {df_valid_mean}\\n Median:{df_valid_median}\\n Mode:{df_valid_mode}')\n",
    "print(f'Max values\\n max mean:{df_valid_mean.max()}\\n max median {df_valid_median.max()}\\n max mode {df_valid_mode.max()}')"
   ]
  },
  {
   "cell_type": "markdown",
   "metadata": {},
   "source": [
    "Максимальное среднее значение = 140,1.\n",
    "Значения медиан по колонкам варируются от 0 до 172.\n",
    "Моды по колонкам равны 0, следовательно чаще всего в колонках 1-785 встречается значение 0."
   ]
  },
  {
   "cell_type": "code",
   "execution_count": null,
   "metadata": {},
   "outputs": [],
   "source": [
    "# Создадим датасет в который перенесем колонку с лэйблами и сопоставим каждому значению среднее значение \n",
    "df_valid_labels=pd.DataFrame({'labels':valid_df['label'],'intensity':valid_df.iloc[:,1:].mean(axis=1)})\n",
    "\n",
    "# TODO: добавить подписи к осям \n",
    "# TODO: добавить название графика \n",
    "# TODO: сделать картинку побольше\n",
    "\n",
    "plt.figure(figsize=(8,8))\n",
    "plt_2 =plt.bar(df_valid_labels['labels'],df_valid_labels['intensity'])\n",
    "plt.xticks(sorted(df_valid_labels['labels'].unique()))\n",
    "plt.title('Valid data \\n Average intensity for different digits')\n",
    "plt.xlabel('Digit label')\n",
    "plt.ylabel('Average intensity')\n",
    "\n",
    "plt.show()"
   ]
  },
  {
   "cell_type": "markdown",
   "metadata": {},
   "source": [
    "Цифры 0 и 8 имеют наибольшие значения средней интенсивности изображений, а цифры 1 и 4 имеют самые низкие показатели интенсивности"
   ]
  },
  {
   "cell_type": "code",
   "execution_count": null,
   "metadata": {},
   "outputs": [],
   "source": [
    "# TODO: добавить подписи к осям \n",
    "# TODO: сделать картинку побольше\n",
    "\n",
    "for i in range(10):\n",
    "    plt.figure(figsize=(8,8))\n",
    "    plt.hist(df_valid_labels['intensity'][df_valid_labels['labels']==i],bins=85,range=(0,100))\n",
    "    plt.title(f'Intensity Histohram for {i}\\n Valid data')\n",
    "    plt.xlabel('Average intensity')\n",
    "    plt.ylabel('Count')\n",
    "    plt.show()"
   ]
  },
  {
   "cell_type": "markdown",
   "metadata": {},
   "source": [
    "Дисперсия распределения интенсивности зависит от того насколько различается написание цифр"
   ]
  },
  {
   "cell_type": "markdown",
   "metadata": {},
   "source": [
    "Примеры изображений из валидационной выборки"
   ]
  },
  {
   "cell_type": "code",
   "execution_count": null,
   "metadata": {},
   "outputs": [],
   "source": [
    "@ interact\n",
    "\n",
    "def show_digits(num=widgets.IntSlider(value=0, min=0, max=9)):\n",
    "    arr_of_pics=[]\n",
    "    fig, ax = plt.subplots(nrows=1, ncols=5, figsize=[15, 10])\n",
    "    for i in range (5):\n",
    "        j=np.random.choice(valid_df[valid_df['label']==num].index)\n",
    "        digit=np.array(valid_df.loc[j])\n",
    "        arr_of_pics.append(np.resize(digit,(28,28)))\n",
    "\n",
    "    ax[0].imshow(arr_of_pics[0],cmap='gray')\n",
    "    ax[1].imshow(arr_of_pics[1],cmap='gray')\n",
    "    ax[2].imshow(arr_of_pics[2],cmap='gray')\n",
    "    ax[3].imshow(arr_of_pics[3],cmap='gray')\n",
    "    ax[4].imshow(arr_of_pics[4],cmap='gray')\n",
    "    \n",
    "\n",
    "    plt.show()"
   ]
  },
  {
   "cell_type": "markdown",
   "metadata": {},
   "source": [
    "## Тестовая выборка"
   ]
  },
  {
   "cell_type": "code",
   "execution_count": null,
   "metadata": {},
   "outputs": [],
   "source": [
    "# Общая информация о данных: размер датасета, тип данных\n",
    "test_df.info()\n",
    "test_df.head(3)"
   ]
  },
  {
   "cell_type": "code",
   "execution_count": null,
   "metadata": {},
   "outputs": [],
   "source": [
    "#Кол-во уникальных значений в первом столбце \n",
    "sorted(test_df['label'].unique())"
   ]
  },
  {
   "cell_type": "code",
   "execution_count": null,
   "metadata": {},
   "outputs": [],
   "source": [
    "# Кол-во пропусков в данных\n",
    "test_df.isnull().sum()\n"
   ]
  },
  {
   "cell_type": "markdown",
   "metadata": {},
   "source": [
    "Тестовая выбрка содержит 10,000 изображений.\n",
    "Пропуски в данных отсутсвуют"
   ]
  },
  {
   "cell_type": "code",
   "execution_count": null,
   "metadata": {},
   "outputs": [],
   "source": [
    "# Оценим количество изображений для каждого лэйбла\n",
    "plt.figure(figsize=(8,8))    \n",
    "plt4 = plt.bar(sorted(test_df['label'].unique()) ,test_df['label'].value_counts())\n",
    "plt.xticks(sorted(test_df['label'].unique()))\n",
    "plt.title('Hist for Lable column\\n Test data')\n",
    "plt.xlabel('Labels')\n",
    "plt.ylabel('Count')\n",
    "plt.bar_label(plt4,test_df['label'].value_counts())\n",
    "\n",
    "plt.show()"
   ]
  },
  {
   "cell_type": "code",
   "execution_count": null,
   "metadata": {},
   "outputs": [],
   "source": [
    "# Среднее значение, медиана, мода по колонкам \n",
    "\n",
    "df_test_mean=test_df.iloc[:,1:].mean()\n",
    "df_test_median=test_df.iloc[:,1:].median()\n",
    "df_test_mode=test_df.iloc[:,1:].mode()\n",
    "print(f'Mean: {df_test_mean}\\n Median:{df_test_median}\\n Mode:{df_test_mode}')\n",
    "print(f'Max values\\n max mean:{df_test_mean.max()}\\n max median {df_test_median.max()}\\n max mode{df_test_mode.max()}')"
   ]
  },
  {
   "cell_type": "markdown",
   "metadata": {},
   "source": [
    "Среднее значение варируется от 0 до 142,9.\n",
    "Значение медианы принимает значение от 0 до 183. \n",
    "Чаще всего в колонках встречается значение 0, следовательно большую часть картинки занимает фон."
   ]
  },
  {
   "cell_type": "code",
   "execution_count": null,
   "metadata": {},
   "outputs": [],
   "source": [
    "# Создадим датасет в который перенесем колонку с лэйблами и сопоставим каждому значению среднее значение \n",
    "df_test_labels=pd.DataFrame({'labels':test_df['label'],'intensity':test_df.iloc[:,1:].mean(axis=1)})\n",
    "\n",
    "# TODO: добавить подписи к осям \n",
    "# TODO: добавить название графика \n",
    "# TODO: сделать картинку побольше\n",
    "\n",
    "plt.figure(figsize=(8,8))\n",
    "plt_2 =plt.bar(df_test_labels['labels'],df_test_labels['intensity'])\n",
    "plt.xticks(sorted(df_test_labels['labels'].unique()))\n",
    "plt.title('Test data \\n Average intensity for different digits')\n",
    "plt.xlabel('Digit label')\n",
    "plt.ylabel('Average intensity')\n",
    "\n",
    "plt.show()"
   ]
  },
  {
   "cell_type": "markdown",
   "metadata": {},
   "source": [
    "В тестовой выборке средняя интенсивность изображений цифры 2 стала выше чем в обучающей и валидационной выборке, а средняя интенсивность цифры 7 меньше, чем в обущающей и валидационной выборках; таким образом наибольша интенсивность у цифр 0,2,8;\n",
    "наименьшая интенсивность у цифр 1,7"
   ]
  },
  {
   "cell_type": "code",
   "execution_count": null,
   "metadata": {},
   "outputs": [],
   "source": [
    "# TODO: добавить подписи к осям \n",
    "# TODO: сделать картинку побольше\n",
    "\n",
    "for i in range(10):\n",
    "    plt.figure(figsize=(8,8))\n",
    "    plt.hist(df_test_labels['intensity'][df_test_labels['labels']==i],bins=85,range=(0,100))\n",
    "    plt.title(f'Intensity Histohram for {i}\\n Test data')\n",
    "    plt.xlabel('Average intensity')\n",
    "    plt.ylabel('Count')\n",
    "    plt.show()"
   ]
  },
  {
   "cell_type": "markdown",
   "metadata": {},
   "source": [
    "Распределения средней интенсивности цифр 2,3,4 имеют несколько вершин, что может говорить о том что для данных цифр имеется несколько различных вариантов их написания"
   ]
  },
  {
   "cell_type": "markdown",
   "metadata": {},
   "source": [
    "Примеры изображений цифр из тестовой выборки"
   ]
  },
  {
   "cell_type": "code",
   "execution_count": null,
   "metadata": {},
   "outputs": [],
   "source": [
    "@ interact\n",
    "\n",
    "def show_digits(num=widgets.IntSlider(value=0, min=0, max=9)):\n",
    "    arr_of_pics=[]\n",
    "    fig, ax = plt.subplots(nrows=1, ncols=5, figsize=[15, 10])\n",
    "    for i in range (5):\n",
    "        j=np.random.choice(test_df[test_df['label']==num].index)\n",
    "        digit=np.array(test_df.loc[j])\n",
    "        arr_of_pics.append(np.resize(digit,(28,28)))\n",
    "\n",
    "    ax[0].imshow(arr_of_pics[0],cmap='gray')\n",
    "    ax[1].imshow(arr_of_pics[1],cmap='gray')\n",
    "    ax[2].imshow(arr_of_pics[2],cmap='gray')\n",
    "    ax[3].imshow(arr_of_pics[3],cmap='gray')\n",
    "    ax[4].imshow(arr_of_pics[4],cmap='gray')\n",
    "    \n",
    "\n",
    "    plt.show()"
   ]
  }
 ],
 "metadata": {
  "interpreter": {
   "hash": "8c46554910a80b06a06093a7e24ed5cd3ebcff8f451b709403ea0840222e27f8"
  },
  "kernelspec": {
   "display_name": "Python 3.8.10 ('.venv': poetry)",
   "language": "python",
   "name": "python3"
  },
  "language_info": {
   "codemirror_mode": {
    "name": "ipython",
    "version": 3
   },
   "file_extension": ".py",
   "mimetype": "text/x-python",
   "name": "python",
   "nbconvert_exporter": "python",
   "pygments_lexer": "ipython3",
   "version": "3.8.10"
  }
 },
 "nbformat": 4,
 "nbformat_minor": 2
}
