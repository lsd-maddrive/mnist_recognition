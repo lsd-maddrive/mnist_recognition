{
 "cells": [
  {
   "cell_type": "code",
   "execution_count": null,
   "metadata": {},
   "outputs": [],
   "source": [
    "import pandas as pd\n",
    "import matplotlib.pyplot as plt\n",
    "import ipywidgets as widgets\n",
    "from ipywidgets import interact\n",
    "import numpy as np"
   ]
  },
  {
   "cell_type": "code",
   "execution_count": null,
   "metadata": {},
   "outputs": [],
   "source": [
    "# Загрузим тренировочные данные \n",
    "df_mnist = pd.read_csv('mnist_train.csv')"
   ]
  },
  {
   "cell_type": "code",
   "execution_count": null,
   "metadata": {},
   "outputs": [],
   "source": [
    "# Общая информация о данных: размер датасета, тип данных\n",
    "df_mnist.info()"
   ]
  },
  {
   "cell_type": "code",
   "execution_count": null,
   "metadata": {},
   "outputs": [],
   "source": [
    "# Посмотрим на то как представленны данные \n",
    "df_mnist.head()"
   ]
  },
  {
   "cell_type": "code",
   "execution_count": null,
   "metadata": {},
   "outputs": [],
   "source": [
    "#Кол-во уникальных значений в первом столбце \n",
    "sorted(df_mnist['label'].unique())"
   ]
  },
  {
   "cell_type": "markdown",
   "metadata": {},
   "source": [
    "mnist_train.csv содержит 60,000 строк, 785 колонок. Первая колонка- лэйбл картинки, содержит значения от 0-9. Колонки от 1-785 (1х1 - 28х28) сосдержат значения каждого пиксля изображения. Т.е в датасете представлено 60,000 примеров изображения для обучения "
   ]
  },
  {
   "cell_type": "markdown",
   "metadata": {},
   "source": [
    "Рассмотрим информацию о данных для каждой колонки отдельно для того чтобы оценить есть ли пропуски в данных "
   ]
  },
  {
   "cell_type": "code",
   "execution_count": null,
   "metadata": {},
   "outputs": [],
   "source": [
    "for i in range(785)[1:]:\n",
    "    df_mnist[df_mnist.columns.tolist()[i]].info()"
   ]
  },
  {
   "cell_type": "markdown",
   "metadata": {},
   "source": [
    "Пропуски в данных отсутсвуют "
   ]
  },
  {
   "cell_type": "markdown",
   "metadata": {},
   "source": [
    "Рассмотрим соотношение значений в целевой колонке - колонке лэйблов изображений\n",
    "Представим информацию в числовом виде и в виде графика "
   ]
  },
  {
   "cell_type": "code",
   "execution_count": null,
   "metadata": {},
   "outputs": [],
   "source": [
    "df_mnist['label'].value_counts()"
   ]
  },
  {
   "cell_type": "code",
   "execution_count": null,
   "metadata": {},
   "outputs": [],
   "source": [
    "plt.hist(df_mnist['label'],rwidth=0.9)"
   ]
  },
  {
   "cell_type": "markdown",
   "metadata": {},
   "source": [
    "Дисбаланса в данных нет, датасет содержит примерно равное количество примеров изображений по каждой цифре"
   ]
  },
  {
   "cell_type": "markdown",
   "metadata": {},
   "source": [
    "Рассмотрим графики соотношения значений для остальных колонок"
   ]
  },
  {
   "cell_type": "code",
   "execution_count": null,
   "metadata": {},
   "outputs": [],
   "source": [
    "@interact \n",
    "def choose_pixel(i=widgets.IntSlider(value=1, min=1, max=784)): \n",
    "    plt.hist(data=df_mnist, x=df_mnist.columns.tolist()[i],bins=25,align='mid')"
   ]
  },
  {
   "cell_type": "markdown",
   "metadata": {},
   "source": [
    "Из графиков видно, что в колонках 1-785 преобладают значение 0 и 255"
   ]
  },
  {
   "cell_type": "markdown",
   "metadata": {},
   "source": [
    "Обозначим среднее значение пикселя в изображении для разных цифр как средняя интенсивность."
   ]
  },
  {
   "cell_type": "code",
   "execution_count": null,
   "metadata": {},
   "outputs": [],
   "source": [
    "# Создадим датасет в который перенесем колонку с лэйблами и сопоставим каждому значению среднее значение \n",
    "df_labels=pd.DataFrame({'labels':df_mnist['label'],'intensity':df_mnist.iloc[:,1:].mean(axis=1)})\n",
    "\n",
    "plt.bar(df_labels['labels'],df_labels['intensity'])\n"
   ]
  },
  {
   "cell_type": "markdown",
   "metadata": {},
   "source": [
    "Из данного графика видно, что самая низкая интенсивность наблюдается у цифры 1 (что связано с особенностями ее написания), самой высокой интенсивностью обладают цифры 0 и 8. "
   ]
  },
  {
   "cell_type": "markdown",
   "metadata": {},
   "source": [
    "Графики распределения средней интенсивности по лэйблу"
   ]
  },
  {
   "cell_type": "code",
   "execution_count": null,
   "metadata": {},
   "outputs": [],
   "source": [
    "#fig, ax = plt.subplots(nrows=9,ncols=1,  figsize=[5, 5])\n",
    "for i in range(10):\n",
    "    plt.hist(df_labels['intensity'][df_labels['labels']==i],bins=85,range=(0,100))\n",
    "    plt.title(f'Intensity Histohram for {i}')\n",
    "    plt.show()"
   ]
  },
  {
   "cell_type": "markdown",
   "metadata": {},
   "source": [
    "Полученные распределения близки к нормальному распределению, но некоторые графики имеют более высокую дисперсию, чем другие, так как написание цифр у разных людей отличается. Так например у 1 наименьший разброс, в связи с чем можно предположить, что написание 1 имеет меньше всего различий."
   ]
  },
  {
   "cell_type": "markdown",
   "metadata": {},
   "source": [
    "Посмотрим на выборочные изображения рукописных цифр "
   ]
  },
  {
   "cell_type": "code",
   "execution_count": null,
   "metadata": {},
   "outputs": [],
   "source": [
    "@ interact\n",
    "\n",
    "def show_digits(num=widgets.IntSlider(value=0, min=0, max=9)):\n",
    "    arr_of_pics=[]\n",
    "    fig, ax = plt.subplots(nrows=1, ncols=5, figsize=[15, 10])\n",
    "    for i in range (5):\n",
    "        j=np.random.choice(df_mnist[df_mnist['label']==num].index)\n",
    "        digit=np.array(df_mnist.loc[j])\n",
    "        arr_of_pics.append(np.resize(digit,(28,28)))\n",
    "    \n",
    "\n",
    "    ax[0].imshow(arr_of_pics[0],cmap='gray')\n",
    "    ax[1].imshow(arr_of_pics[1],cmap='gray')\n",
    "    ax[2].imshow(arr_of_pics[2],cmap='gray')\n",
    "    ax[3].imshow(arr_of_pics[3],cmap='gray')\n",
    "    ax[4].imshow(arr_of_pics[4],cmap='gray')\n",
    "    \n",
    "\n",
    "    plt.show()"
   ]
  }
 ],
 "metadata": {
  "interpreter": {
   "hash": "8c46554910a80b06a06093a7e24ed5cd3ebcff8f451b709403ea0840222e27f8"
  },
  "kernelspec": {
   "display_name": "Python 3.8.10 ('.venv': poetry)",
   "language": "python",
   "name": "python3"
  },
  "language_info": {
   "codemirror_mode": {
    "name": "ipython",
    "version": 3
   },
   "file_extension": ".py",
   "mimetype": "text/x-python",
   "name": "python",
   "nbconvert_exporter": "python",
   "pygments_lexer": "ipython3",
   "version": "3.8.10"
  }
 },
 "nbformat": 4,
 "nbformat_minor": 2
}
